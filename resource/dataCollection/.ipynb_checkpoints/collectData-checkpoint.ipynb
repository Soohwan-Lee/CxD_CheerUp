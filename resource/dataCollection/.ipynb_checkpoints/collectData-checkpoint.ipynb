{
 "cells": [
  {
   "cell_type": "code",
   "execution_count": 114,
   "id": "2a6101b5",
   "metadata": {},
   "outputs": [
    {
     "name": "stdout",
     "output_type": "stream",
     "text": [
      "[0.01123549 0.01414538 0.01878015 0.01721409 0.0168582  0.0279561\n",
      " 0.02667851 0.00895161 0.01741572 0.0183544  0.02210598 0.0225796 ]\n",
      "sumBPD:  0.222275231922164\n",
      "mapBPD:  18\n",
      "minBPD:  0.222275231922164\n",
      "maxBPD:  0.222275231922164\n",
      "===============\n",
      "[0.01121236 0.01401606 0.01871378 0.01961778 0.01667834 0.02788562\n",
      " 0.02652763 0.00885705 0.01719671 0.01824185 0.02220337 0.02266209]\n",
      "sumBPD:  0.22381263630198991\n",
      "mapBPD:  20\n",
      "minBPD:  0.222275231922164\n",
      "maxBPD:  0.22381263630198991\n",
      "===============\n",
      "[0.01121949 0.01434104 0.01867542 0.01728163 0.01687625 0.02788446\n",
      " 0.02682702 0.00877558 0.01701904 0.01811718 0.02222464 0.02266474]\n",
      "sumBPD:  0.22190650532791342\n",
      "mapBPD:  18\n",
      "minBPD:  0.22190650532791342\n",
      "maxBPD:  0.22381263630198991\n",
      "===============\n",
      "[0.01125406 0.01396337 0.01842851 0.0168926  0.01631579 0.02785047\n",
      " 0.02683713 0.00877561 0.01722181 0.01813918 0.02190044 0.02253244]\n",
      "sumBPD:  0.22011140762322168\n",
      "mapBPD:  17\n",
      "minBPD:  0.22011140762322168\n",
      "maxBPD:  0.22381263630198991\n",
      "===============\n",
      "[0.01145215 0.01380314 0.01873975 0.01909059 0.01680911 0.02813496\n",
      " 0.02718646 0.00881057 0.01673108 0.01809968 0.0219476  0.0224829 ]\n",
      "sumBPD:  0.22328799142520478\n",
      "mapBPD:  19\n",
      "minBPD:  0.22011140762322168\n",
      "maxBPD:  0.22381263630198991\n",
      "===============\n",
      "[0.01118318 0.01411703 0.01901237 0.01713963 0.01655034 0.02820775\n",
      " 0.02675492 0.00877513 0.01602274 0.01868501 0.0225459  0.02237796]\n",
      "sumBPD:  0.22137194833318186\n",
      "mapBPD:  18\n",
      "minBPD:  0.22011140762322168\n",
      "maxBPD:  0.22381263630198991\n",
      "===============\n",
      "[0.01115997 0.01377777 0.01854319 0.01912261 0.01618459 0.02854326\n",
      " 0.0274285  0.00873082 0.01553499 0.01774832 0.02246943 0.02244356]\n",
      "sumBPD:  0.22168698405523551\n",
      "mapBPD:  18\n",
      "minBPD:  0.22011140762322168\n",
      "maxBPD:  0.22381263630198991\n",
      "===============\n",
      "[0.0114296  0.01438855 0.01925099 0.01898403 0.01668146 0.02837202\n",
      " 0.02734346 0.0087407  0.01578751 0.01739404 0.02224135 0.02273694]\n",
      "sumBPD:  0.223350650968908\n",
      "mapBPD:  19\n",
      "minBPD:  0.22011140762322168\n",
      "maxBPD:  0.22381263630198991\n",
      "===============\n",
      "[0.01165743 0.01488504 0.01968886 0.01908358 0.01735104 0.02870782\n",
      " 0.02780222 0.00880432 0.01480722 0.01695394 0.02242842 0.02234021]\n",
      "sumBPD:  0.2245100935590073\n",
      "mapBPD:  20\n",
      "minBPD:  0.22011140762322168\n",
      "maxBPD:  0.2245100935590073\n",
      "===============\n",
      "[0.01150921 0.01489969 0.01892461 0.0204392  0.01640276 0.02913253\n",
      " 0.02793916 0.00900718 0.01523257 0.01700035 0.02165079 0.02237935]\n",
      "sumBPD:  0.22451740129404898\n",
      "mapBPD:  20\n",
      "minBPD:  0.22011140762322168\n",
      "maxBPD:  0.22451740129404898\n",
      "===============\n",
      "[0.01170882 0.01478587 0.01832305 0.01759913 0.01625635 0.0292345\n",
      " 0.02762953 0.00908872 0.01492943 0.01727282 0.02141961 0.02176254]\n",
      "sumBPD:  0.2200103711684886\n",
      "mapBPD:  17\n",
      "minBPD:  0.2200103711684886\n",
      "maxBPD:  0.22451740129404898\n",
      "===============\n",
      "[0.01189054 0.01430001 0.018478   0.01680052 0.01527832 0.02868216\n",
      " 0.02753328 0.00890573 0.01507162 0.01683713 0.02149163 0.02225984]\n",
      "sumBPD:  0.21752878361309352\n",
      "mapBPD:  14\n",
      "minBPD:  0.21752878361309352\n",
      "maxBPD:  0.22451740129404898\n",
      "===============\n",
      "[0.01203947 0.01436615 0.01941595 0.01625975 0.01599604 0.02869492\n",
      " 0.02759703 0.00888574 0.01490789 0.01704271 0.02173247 0.02210281]\n",
      "sumBPD:  0.2190409304693954\n",
      "mapBPD:  16\n",
      "minBPD:  0.21752878361309352\n",
      "maxBPD:  0.22451740129404898\n",
      "===============\n",
      "[0.01241457 0.01516376 0.02062209 0.01633587 0.01882365 0.0292934\n",
      " 0.02791457 0.00882497 0.01442806 0.01654312 0.02139341 0.02193131]\n",
      "sumBPD:  0.22368878054792757\n",
      "mapBPD:  20\n",
      "minBPD:  0.21752878361309352\n",
      "maxBPD:  0.22451740129404898\n",
      "===============\n",
      "[0.01225059 0.01512322 0.02044499 0.01796713 0.01879834 0.02923357\n",
      " 0.02785515 0.0086833  0.01423068 0.01671897 0.0217382  0.02202816]\n",
      "sumBPD:  0.22507230175447557\n",
      "mapBPD:  21\n",
      "minBPD:  0.21752878361309352\n",
      "maxBPD:  0.22507230175447557\n",
      "===============\n",
      "[0.01229936 0.01586043 0.01961847 0.01797394 0.01958354 0.02949071\n",
      " 0.0280718  0.0085604  0.01421159 0.01700518 0.02113031 0.02125101]\n",
      "sumBPD:  0.22505675220960183\n",
      "mapBPD:  21\n",
      "minBPD:  0.21752878361309352\n",
      "maxBPD:  0.22507230175447557\n",
      "===============\n",
      "[0.01235392 0.01565503 0.02002005 0.01623272 0.01919592 0.0289678\n",
      " 0.02874537 0.00874352 0.0152446  0.01660186 0.02045033 0.02077873]\n",
      "sumBPD:  0.2229898484646379\n",
      "mapBPD:  19\n",
      "minBPD:  0.21752878361309352\n",
      "maxBPD:  0.22507230175447557\n",
      "===============\n",
      "[0.01249344 0.01546917 0.02044459 0.015775   0.01689465 0.02870209\n",
      " 0.02832023 0.00920334 0.01504624 0.01683134 0.02100827 0.02122221]\n",
      "sumBPD:  0.22141055003696458\n",
      "mapBPD:  18\n",
      "minBPD:  0.21752878361309352\n",
      "maxBPD:  0.22507230175447557\n",
      "===============\n",
      "[0.01265577 0.01540509 0.02001735 0.01616733 0.0177572  0.02855413\n",
      " 0.02805129 0.00915605 0.01528701 0.01692187 0.0202809  0.02089276]\n",
      "sumBPD:  0.22114677612663505\n",
      "mapBPD:  17\n",
      "minBPD:  0.21752878361309352\n",
      "maxBPD:  0.22507230175447557\n",
      "===============\n",
      "[0.01261136 0.01519242 0.02026521 0.0168985  0.01942452 0.02857517\n",
      " 0.02784546 0.00882919 0.01546949 0.01701076 0.02029954 0.02127699]\n",
      "sumBPD:  0.223698628114847\n",
      "mapBPD:  20\n",
      "minBPD:  0.21752878361309352\n",
      "maxBPD:  0.22507230175447557\n",
      "===============\n",
      "[0.01285839 0.01456042 0.01985067 0.01833841 0.01992231 0.02909075\n",
      " 0.02706489 0.00777909 0.01492797 0.01626332 0.02031054 0.02250258]\n",
      "sumBPD:  0.22346934434400717\n",
      "mapBPD:  19\n",
      "minBPD:  0.21752878361309352\n",
      "maxBPD:  0.22507230175447557\n",
      "===============\n",
      "[0.01276226 0.0134533  0.01873707 0.01827871 0.01956139 0.02947993\n",
      " 0.0276313  0.00798793 0.01518081 0.01561124 0.01972335 0.02243698]\n",
      "sumBPD:  0.2208442829175038\n",
      "mapBPD:  17\n",
      "minBPD:  0.21752878361309352\n",
      "maxBPD:  0.22507230175447557\n",
      "===============\n",
      "[0.01283775 0.01312589 0.01787416 0.02124795 0.01607576 0.02877958\n",
      " 0.02614219 0.00797519 0.01697961 0.01686994 0.01946361 0.02263951]\n",
      "sumBPD:  0.22001115237518837\n",
      "mapBPD:  17\n",
      "minBPD:  0.21752878361309352\n",
      "maxBPD:  0.22507230175447557\n",
      "===============\n",
      "[0.01263913 0.01558059 0.01992992 0.0192673  0.01751231 0.02875574\n",
      " 0.02615017 0.00793803 0.01788151 0.01859587 0.0195688  0.02231011]\n",
      "sumBPD:  0.2261294920084973\n",
      "mapBPD:  22\n",
      "minBPD:  0.21752878361309352\n",
      "maxBPD:  0.2261294920084973\n",
      "===============\n",
      "[0.01248885 0.0147668  0.01812757 0.02156337 0.01395294 0.02882444\n",
      " 0.02550092 0.00929831 0.01880835 0.01994609 0.01920413 0.02266908]\n",
      "sumBPD:  0.22515083508009345\n",
      "mapBPD:  21\n",
      "minBPD:  0.21752878361309352\n",
      "maxBPD:  0.2261294920084973\n",
      "===============\n",
      "[0.013152   0.0145828  0.01703347 0.01956247 0.01774179 0.02853946\n",
      " 0.0255168  0.00906759 0.01977046 0.01919024 0.02054094 0.02466992]\n",
      "sumBPD:  0.22936794354857126\n",
      "mapBPD:  24\n",
      "minBPD:  0.21752878361309352\n",
      "maxBPD:  0.22936794354857126\n",
      "===============\n",
      "[0.0135451  0.01440914 0.01529559 0.02179397 0.01821077 0.02938782\n",
      " 0.02660753 0.00994267 0.02118041 0.02098746 0.02033874 0.02586336]\n",
      "sumBPD:  0.23756257690835275\n",
      "mapBPD:  31\n",
      "minBPD:  0.21752878361309352\n",
      "maxBPD:  0.23756257690835275\n",
      "===============\n",
      "[0.01455897 0.01516436 0.01532516 0.02201382 0.02343647 0.03005995\n",
      " 0.02659787 0.01037657 0.02068087 0.0215116  0.02057781 0.02654987]\n",
      "sumBPD:  0.24685331992047344\n",
      "mapBPD:  39\n",
      "minBPD:  0.21752878361309352\n",
      "maxBPD:  0.24685331992047344\n",
      "===============\n",
      "[0.01310602 0.01971339 0.01784738 0.02550165 0.0270233  0.02908982\n",
      " 0.02779867 0.0101654  0.0237683  0.02393262 0.0245362  0.0324025 ]\n",
      "sumBPD:  0.2748852537185128\n",
      "mapBPD:  63\n",
      "minBPD:  0.21752878361309352\n",
      "maxBPD:  0.2748852537185128\n",
      "===============\n",
      "[0.01181243 0.02352413 0.02487462 0.02490818 0.0352127  0.02847633\n",
      " 0.02730324 0.00950437 0.03060673 0.02426808 0.02544027 0.03577678]\n",
      "sumBPD:  0.3017078592732655\n",
      "mapBPD:  86\n",
      "minBPD:  0.21752878361309352\n",
      "maxBPD:  0.3017078592732655\n",
      "===============\n",
      "[0.01344383 0.02886106 0.03051269 0.0204737  0.03693407 0.02661776\n",
      " 0.02667618 0.00829152 0.03756255 0.02513407 0.02110196 0.03445915]\n",
      "sumBPD:  0.3100685334697323\n",
      "mapBPD:  93\n",
      "minBPD:  0.21752878361309352\n",
      "maxBPD:  0.3100685334697323\n",
      "===============\n",
      "[0.0150106  0.02919559 0.03708838 0.02644955 0.03814906 0.02582478\n",
      " 0.02435665 0.00898038 0.04022067 0.02438962 0.02147751 0.03714328]\n",
      "sumBPD:  0.32828607232792467\n",
      "mapBPD:  109\n",
      "minBPD:  0.21752878361309352\n",
      "maxBPD:  0.32828607232792467\n",
      "===============\n",
      "[0.01362185 0.03388269 0.03936018 0.02362617 0.03743509 0.02311407\n",
      " 0.02143277 0.00924268 0.03344292 0.02151694 0.03485757 0.03523289]\n",
      "sumBPD:  0.32676581163151197\n",
      "mapBPD:  107\n",
      "minBPD:  0.21752878361309352\n",
      "maxBPD:  0.32828607232792467\n",
      "===============\n"
     ]
    },
    {
     "name": "stdout",
     "output_type": "stream",
     "text": [
      "[0.01144165 0.03168336 0.03806299 0.02430959 0.03347925 0.02303809\n",
      " 0.02219929 0.00780768 0.03804935 0.01876908 0.04340617 0.05345224]\n",
      "sumBPD:  0.3456987470688597\n",
      "mapBPD:  123\n",
      "minBPD:  0.21752878361309352\n",
      "maxBPD:  0.3456987470688597\n",
      "===============\n",
      "[0.01167851 0.02685103 0.03145893 0.02172285 0.02896684 0.02230989\n",
      " 0.02295538 0.00849149 0.03459366 0.01917939 0.05731743 0.06464389]\n",
      "sumBPD:  0.35016926938223875\n",
      "mapBPD:  127\n",
      "minBPD:  0.21752878361309352\n",
      "maxBPD:  0.35016926938223875\n",
      "===============\n",
      "[0.01441321 0.02492433 0.02895451 0.0243107  0.02138241 0.02357723\n",
      " 0.02586525 0.01144177 0.03913276 0.01854492 0.03314473 0.03531549]\n",
      "sumBPD:  0.30100730570606615\n",
      "mapBPD:  85\n",
      "minBPD:  0.21752878361309352\n",
      "maxBPD:  0.35016926938223875\n",
      "===============\n",
      "[0.01189902 0.02134932 0.02757323 0.02271663 0.02432962 0.01997227\n",
      " 0.02287309 0.00986525 0.03730425 0.01870377 0.06268914 0.06674802]\n",
      "sumBPD:  0.3460236037175377\n",
      "mapBPD:  124\n",
      "minBPD:  0.21752878361309352\n",
      "maxBPD:  0.35016926938223875\n",
      "===============\n",
      "[0.00863567 0.01732878 0.02654647 0.02169048 0.01562417 0.02053842\n",
      " 0.02147507 0.0083175  0.04739687 0.02321059 0.06022352 0.06828943]\n",
      "sumBPD:  0.33927696637169535\n",
      "mapBPD:  118\n",
      "minBPD:  0.21752878361309352\n",
      "maxBPD:  0.35016926938223875\n",
      "===============\n",
      "[0.01124486 0.01965269 0.02309314 0.01107673 0.01621732 0.02181526\n",
      " 0.01697312 0.00973153 0.04178386 0.02801994 0.06318519 0.0722904 ]\n",
      "sumBPD:  0.3350840489089413\n",
      "mapBPD:  114\n",
      "minBPD:  0.21752878361309352\n",
      "maxBPD:  0.35016926938223875\n",
      "===============\n"
     ]
    }
   ],
   "source": [
    "import tensorflow as tf\n",
    "import tensorflow_hub as hub\n",
    "import cv2\n",
    "from matplotlib import pyplot as plt\n",
    "from matplotlib import animation\n",
    "import numpy as np\n",
    "import pandas as pd\n",
    "import math\n",
    "import socket\n",
    "import time\n",
    "\n",
    "### Optional if you are using a GPU\n",
    "gpus = tf.config.experimental.list_physical_devices('GPU')\n",
    "for gpu in gpus:\n",
    "    tf.config.experimental.set_memory_growth(gpu, True)\n",
    "\n",
    "### Load Model\n",
    "model = hub.load('https://tfhub.dev/google/movenet/multipose/lightning/1')\n",
    "movenet = model.signatures['serving_default']\n",
    "\n",
    "\n",
    "### Variables for UDP Send\n",
    "# Set IP address as local host, 12000 is destination port\n",
    "serverAddressPort = (\"127.0.0.1\", 12000)\n",
    "bufferSize = 1024\n",
    "UDPClientSocket = socket.socket(family=socket.AF_INET, type=socket.SOCK_DGRAM)\n",
    "message = \"\"\n",
    "\n",
    "# Mapping Function\n",
    "def mapping(x,input_min,input_max,output_min,output_max):\n",
    "    val = (x-input_min)*(output_max-output_min)/(input_max-input_min)+output_min\n",
    "    if val < output_min:\n",
    "        val = output_min\n",
    "    elif val > output_max:\n",
    "        val = output_max\n",
    "    return val\n",
    "\n",
    "### Draw EDGES\n",
    "EDGES = {\n",
    "    (0, 1): 'm',\n",
    "    (0, 2): 'c',\n",
    "    (1, 3): 'm',\n",
    "    (2, 4): 'c',\n",
    "    (0, 5): 'm',\n",
    "    (0, 6): 'c',\n",
    "    (5, 7): 'm',\n",
    "    (7, 9): 'm',\n",
    "    (6, 8): 'c',\n",
    "    (8, 10): 'c',\n",
    "    (5, 6): 'y',\n",
    "    (5, 11): 'm',\n",
    "    (6, 12): 'c',\n",
    "    (11, 12): 'y',\n",
    "    (11, 13): 'm',\n",
    "    (13, 15): 'm',\n",
    "    (12, 14): 'c',\n",
    "    (14, 16): 'c'\n",
    "}\n",
    "\n",
    "### Vector List\n",
    "vectorList = [\n",
    "    [0,1],\n",
    "    [0,2],\n",
    "    [1,3],\n",
    "    [2,4],\n",
    "    [3,5],\n",
    "    [0,6],\n",
    "    [1,7],\n",
    "    [6,7],\n",
    "    [6,8],\n",
    "    [7,9],\n",
    "    [8,10],\n",
    "    [9,10]\n",
    "]\n",
    "\n",
    "# Function to loop through each person detected and render\n",
    "def loop_through_people(frame, keypoints_with_scores, edges, confidence_threshold):\n",
    "    for person in keypoints_with_scores:\n",
    "        draw_connections(frame, person, edges, confidence_threshold)\n",
    "        draw_keypoints(frame, person, confidence_threshold)\n",
    "\n",
    "\n",
    "def draw_keypoints(frame, keypoints, confidence_threshold):\n",
    "    y, x, c = frame.shape\n",
    "    shaped = np.squeeze(np.multiply(keypoints, [y,x,1]))\n",
    "    \n",
    "    for kp in shaped:\n",
    "        ky, kx, kp_conf = kp\n",
    "        if kp_conf > confidence_threshold:\n",
    "            cv2.circle(frame, (int(kx), int(ky)), 3, (0,255,0), -1)\n",
    "\n",
    "def draw_connections(frame, keypoints, edges, confidence_threshold):\n",
    "    y, x, c = frame.shape\n",
    "    shaped = np.squeeze(np.multiply(keypoints, [y,x,1]))\n",
    "    \n",
    "    for edge, color in edges.items():\n",
    "        p1, p2 = edge\n",
    "        y1, x1, c1 = shaped[p1]\n",
    "        y2, x2, c2 = shaped[p2]\n",
    "        \n",
    "        if (c1 > confidence_threshold) & (c2 > confidence_threshold):      \n",
    "            cv2.line(frame, (int(x1), int(y1)), (int(x2), int(y2)), (0,0,255), 2)\n",
    "\n",
    "\n",
    "###\n",
    "# Variables for drawing plot in real-time\n",
    "\n",
    "\n",
    "if __name__ == \"__main__\":\n",
    "    ### Variables\n",
    "    numberOfPeople = 4\n",
    "    lamdaVal = 0.885\n",
    "\n",
    "    minBPD = 10.0\n",
    "    maxBPD = 0.0\n",
    "    \n",
    "    saveNum = 0\n",
    "    saveBPD = []\n",
    "\n",
    "    ### Loading Video File\n",
    "    cap = cv2.VideoCapture('../../data/sampleVideo.mp4')\n",
    "    while cap.isOpened():\n",
    "        ret, frame = cap.read()\n",
    "\n",
    "        ### Variables for each frame\n",
    "        BPD = []\n",
    "        \n",
    "        # Resize image\n",
    "        img = frame.copy()\n",
    "        img = tf.image.resize_with_pad(tf.expand_dims(img, axis=0), 384,640)\n",
    "        input_img = tf.cast(img, dtype=tf.int32)\n",
    "        \n",
    "        # Detection section\n",
    "        results = movenet(input_img)\n",
    "        keypoints_with_scores = results['output_0'].numpy()[:,:,:51].reshape((6,17,3))\n",
    "        keypoints_with_scores = keypoints_with_scores[:numberOfPeople]\n",
    "        keypoints_only = np.delete(keypoints_with_scores,2,2)\n",
    "        keypoints_only_body = np.delete(keypoints_only, [0,1,2,3,4], 1)\n",
    "\n",
    "        # Calculate each vector for each person\n",
    "        vectors_only_body = []\n",
    "        for person in keypoints_only_body:\n",
    "            tempPerson = []\n",
    "            for i in vectorList:\n",
    "                tempVector = person[i[1]] - person[i[0]]\n",
    "                tempPerson.append(tempVector)\n",
    "                # print(person[i[1]] - person[i[0]])    # vector(second - first)\n",
    "                # print(\"====\")\n",
    "            vectors_only_body.append(tempPerson)\n",
    "\n",
    "        vectors_only_body = np.array(vectors_only_body)\n",
    "        vectors_only_body.reshape(4,12,2)\n",
    "        # print(vectors_only_body)\n",
    "        # print(\"============\")\n",
    "\n",
    "        ### Calculate BPD(Body-part-level Pose Distance)\n",
    "        for person in vectors_only_body:\n",
    "            pass\n",
    "\n",
    "        for i in range(12):\n",
    "            tempBodyPart = []\n",
    "            tempD = []\n",
    "            \n",
    "            # Calculate vector\n",
    "            for person in vectors_only_body:\n",
    "                tempBodyPart.append(person[i])\n",
    "                # print(person[i])\n",
    "                # print(\"====\")\n",
    "            tempBodyPart = np.array(tempBodyPart)\n",
    "            tempAverageVector = tempBodyPart.mean(axis = 0)\n",
    "            \n",
    "            # Calculate d\n",
    "            for vi in tempBodyPart:\n",
    "                tempDVal = np.linalg.norm(vi - tempAverageVector)\n",
    "                tempD = np.array(tempD)\n",
    "                tempD = np.append(tempD, tempDVal)\n",
    "            \n",
    "            \n",
    "            BPD = np.array(BPD)\n",
    "            BPD = np.append(BPD, math.pow(tempD.mean(), lamdaVal))\n",
    "        \n",
    "        ### Check each Value....\n",
    "        print(BPD)\n",
    "        sumBPD = np.sum(BPD)\n",
    "        print(\"sumBPD: \", sumBPD)\n",
    "        mapBPD = int(mapping(sumBPD, 0.2, 0.5, 0.0, 255.0))\n",
    "        print(\"mapBPD: \", mapBPD)\n",
    "\n",
    "        if (minBPD > sumBPD):\n",
    "            minBPD = sumBPD\n",
    "        if (maxBPD < sumBPD):\n",
    "            maxBPD = sumBPD\n",
    "        print(\"minBPD: \", minBPD)   # BPD Maximum Value\n",
    "        print(\"maxBPD: \", maxBPD)   # BPD Minimum Value\n",
    "        print(\"===============\")\n",
    "\n",
    "        # Sending mapBPD to Processing....\n",
    "        UDPClientSocket.sendto(str.encode(str(mapBPD)), serverAddressPort)\n",
    "\n",
    "        # Drawing Colored Rectangle with mapBPD\n",
    "        start_point = (0, 0)\n",
    "        end_point = (30, 30)\n",
    "        color = (0, 255-mapBPD, mapBPD)\n",
    "        thickness = -1\n",
    "        frame = cv2.rectangle(frame, start_point, end_point, color, thickness)\n",
    "        frame = cv2.putText(frame, str(sumBPD), (30,30), cv2.FONT_HERSHEY_SIMPLEX, 0.5, (0,0,255), 1, cv2.LINE_AA)\n",
    "        frame = cv2.putText(frame, str(BPD[:6]), (30,60), cv2.FONT_HERSHEY_SIMPLEX, 0.5, (0,0,255), 1, cv2.LINE_AA)\n",
    "        frame = cv2.putText(frame, str(BPD[6:]), (30,90), cv2.FONT_HERSHEY_SIMPLEX, 0.5, (0,0,255), 1, cv2.LINE_AA)\n",
    "\n",
    "\n",
    "        # Render keypoints \n",
    "        loop_through_people(frame, keypoints_with_scores, EDGES, 0.1)\n",
    "        # loop_through_people(frame, [keypoints_with_scores[0]], EDGES, 0.1)    # Check for first person.....\n",
    "\n",
    "        time.sleep(0.1)\n",
    "        \n",
    "        cv2.imshow('Movenet Multipose', frame)\n",
    "        \n",
    "        if cv2.waitKey(1) & 0xFF==ord('z'):\n",
    "            saveBPD.append(BPD)\n",
    "            cv2.imwrite('./' + str(saveNum) +'.jpg', frame)\n",
    "            saveNum += 1\n",
    "        \n",
    "        if cv2.waitKey(10) & 0xFF==ord('q'):\n",
    "            rawData = np.array(saveBPD)\n",
    "            df = pd.DataFrame(rawData)\n",
    "            df.to_csv('sampleData.csv', index=False)\n",
    "            break\n",
    "    \n",
    "    cap.release()\n",
    "    cv2.destroyAllWindows()"
   ]
  },
  {
   "cell_type": "code",
   "execution_count": 1,
   "id": "4943d912",
   "metadata": {},
   "outputs": [],
   "source": [
    "import numpy as np\n",
    "import pandas as pd\n",
    "\n",
    "tempBPDData = pd.read_csv('./sampleBPDData.csv')\n",
    "allBPD = tempBPDData.to_numpy()"
   ]
  },
  {
   "cell_type": "code",
   "execution_count": 3,
   "id": "420b77a1",
   "metadata": {},
   "outputs": [
    {
     "data": {
      "text/html": [
       "<div>\n",
       "<style scoped>\n",
       "    .dataframe tbody tr th:only-of-type {\n",
       "        vertical-align: middle;\n",
       "    }\n",
       "\n",
       "    .dataframe tbody tr th {\n",
       "        vertical-align: top;\n",
       "    }\n",
       "\n",
       "    .dataframe thead th {\n",
       "        text-align: right;\n",
       "    }\n",
       "</style>\n",
       "<table border=\"1\" class=\"dataframe\">\n",
       "  <thead>\n",
       "    <tr style=\"text-align: right;\">\n",
       "      <th></th>\n",
       "      <th>0</th>\n",
       "      <th>1</th>\n",
       "      <th>2</th>\n",
       "      <th>3</th>\n",
       "      <th>4</th>\n",
       "      <th>5</th>\n",
       "      <th>6</th>\n",
       "      <th>7</th>\n",
       "      <th>8</th>\n",
       "      <th>9</th>\n",
       "      <th>10</th>\n",
       "      <th>11</th>\n",
       "    </tr>\n",
       "  </thead>\n",
       "  <tbody>\n",
       "    <tr>\n",
       "      <th>45</th>\n",
       "      <td>0.017660</td>\n",
       "      <td>0.030396</td>\n",
       "      <td>0.022670</td>\n",
       "      <td>0.022384</td>\n",
       "      <td>0.020548</td>\n",
       "      <td>0.033468</td>\n",
       "      <td>0.032331</td>\n",
       "      <td>0.007520</td>\n",
       "      <td>0.028279</td>\n",
       "      <td>0.021665</td>\n",
       "      <td>0.025635</td>\n",
       "      <td>0.040586</td>\n",
       "    </tr>\n",
       "    <tr>\n",
       "      <th>46</th>\n",
       "      <td>0.025753</td>\n",
       "      <td>0.030560</td>\n",
       "      <td>0.022915</td>\n",
       "      <td>0.029751</td>\n",
       "      <td>0.035864</td>\n",
       "      <td>0.034674</td>\n",
       "      <td>0.038768</td>\n",
       "      <td>0.016019</td>\n",
       "      <td>0.026238</td>\n",
       "      <td>0.049710</td>\n",
       "      <td>0.024482</td>\n",
       "      <td>0.041834</td>\n",
       "    </tr>\n",
       "    <tr>\n",
       "      <th>47</th>\n",
       "      <td>0.022923</td>\n",
       "      <td>0.058617</td>\n",
       "      <td>0.051026</td>\n",
       "      <td>0.033213</td>\n",
       "      <td>0.090172</td>\n",
       "      <td>0.024801</td>\n",
       "      <td>0.036791</td>\n",
       "      <td>0.017895</td>\n",
       "      <td>0.024113</td>\n",
       "      <td>0.034653</td>\n",
       "      <td>0.021502</td>\n",
       "      <td>0.039619</td>\n",
       "    </tr>\n",
       "    <tr>\n",
       "      <th>48</th>\n",
       "      <td>0.012290</td>\n",
       "      <td>0.033586</td>\n",
       "      <td>0.021406</td>\n",
       "      <td>0.037201</td>\n",
       "      <td>0.017840</td>\n",
       "      <td>0.025595</td>\n",
       "      <td>0.026730</td>\n",
       "      <td>0.007795</td>\n",
       "      <td>0.032553</td>\n",
       "      <td>0.032850</td>\n",
       "      <td>0.025127</td>\n",
       "      <td>0.049436</td>\n",
       "    </tr>\n",
       "    <tr>\n",
       "      <th>49</th>\n",
       "      <td>0.011367</td>\n",
       "      <td>0.019837</td>\n",
       "      <td>0.021530</td>\n",
       "      <td>0.023679</td>\n",
       "      <td>0.016957</td>\n",
       "      <td>0.027691</td>\n",
       "      <td>0.021669</td>\n",
       "      <td>0.009543</td>\n",
       "      <td>0.030570</td>\n",
       "      <td>0.028220</td>\n",
       "      <td>0.020989</td>\n",
       "      <td>0.033005</td>\n",
       "    </tr>\n",
       "  </tbody>\n",
       "</table>\n",
       "</div>"
      ],
      "text/plain": [
       "           0         1         2         3         4         5         6  \\\n",
       "45  0.017660  0.030396  0.022670  0.022384  0.020548  0.033468  0.032331   \n",
       "46  0.025753  0.030560  0.022915  0.029751  0.035864  0.034674  0.038768   \n",
       "47  0.022923  0.058617  0.051026  0.033213  0.090172  0.024801  0.036791   \n",
       "48  0.012290  0.033586  0.021406  0.037201  0.017840  0.025595  0.026730   \n",
       "49  0.011367  0.019837  0.021530  0.023679  0.016957  0.027691  0.021669   \n",
       "\n",
       "           7         8         9        10        11  \n",
       "45  0.007520  0.028279  0.021665  0.025635  0.040586  \n",
       "46  0.016019  0.026238  0.049710  0.024482  0.041834  \n",
       "47  0.017895  0.024113  0.034653  0.021502  0.039619  \n",
       "48  0.007795  0.032553  0.032850  0.025127  0.049436  \n",
       "49  0.009543  0.030570  0.028220  0.020989  0.033005  "
      ]
     },
     "execution_count": 3,
     "metadata": {},
     "output_type": "execute_result"
    }
   ],
   "source": [
    "tempBPDData.tail()"
   ]
  },
  {
   "cell_type": "code",
   "execution_count": 2,
   "id": "58b3b3da",
   "metadata": {},
   "outputs": [],
   "source": [
    "tempHumanData = pd.read_csv('./humanRatingData.csv')\n",
    "humanRating = tempHumanData.to_numpy()"
   ]
  },
  {
   "cell_type": "code",
   "execution_count": 5,
   "id": "61d1c87d",
   "metadata": {},
   "outputs": [
    {
     "data": {
      "text/html": [
       "<div>\n",
       "<style scoped>\n",
       "    .dataframe tbody tr th:only-of-type {\n",
       "        vertical-align: middle;\n",
       "    }\n",
       "\n",
       "    .dataframe tbody tr th {\n",
       "        vertical-align: top;\n",
       "    }\n",
       "\n",
       "    .dataframe thead th {\n",
       "        text-align: right;\n",
       "    }\n",
       "</style>\n",
       "<table border=\"1\" class=\"dataframe\">\n",
       "  <thead>\n",
       "    <tr style=\"text-align: right;\">\n",
       "      <th></th>\n",
       "      <th>0</th>\n",
       "    </tr>\n",
       "  </thead>\n",
       "  <tbody>\n",
       "    <tr>\n",
       "      <th>45</th>\n",
       "      <td>0.6</td>\n",
       "    </tr>\n",
       "    <tr>\n",
       "      <th>46</th>\n",
       "      <td>0.1</td>\n",
       "    </tr>\n",
       "    <tr>\n",
       "      <th>47</th>\n",
       "      <td>0.0</td>\n",
       "    </tr>\n",
       "    <tr>\n",
       "      <th>48</th>\n",
       "      <td>0.4</td>\n",
       "    </tr>\n",
       "    <tr>\n",
       "      <th>49</th>\n",
       "      <td>0.8</td>\n",
       "    </tr>\n",
       "  </tbody>\n",
       "</table>\n",
       "</div>"
      ],
      "text/plain": [
       "      0\n",
       "45  0.6\n",
       "46  0.1\n",
       "47  0.0\n",
       "48  0.4\n",
       "49  0.8"
      ]
     },
     "execution_count": 5,
     "metadata": {},
     "output_type": "execute_result"
    }
   ],
   "source": [
    "tempHumanData.tail()"
   ]
  },
  {
   "cell_type": "code",
   "execution_count": 3,
   "id": "1a16f2c3",
   "metadata": {},
   "outputs": [],
   "source": [
    "tempSimpleAddtion = pd.read_csv('./simpleAdditionData.csv')\n",
    "simpleAddition = tempSimpleAddtion.to_numpy()"
   ]
  },
  {
   "cell_type": "code",
   "execution_count": 7,
   "id": "0ab0d72f",
   "metadata": {},
   "outputs": [
    {
     "data": {
      "text/html": [
       "<div>\n",
       "<style scoped>\n",
       "    .dataframe tbody tr th:only-of-type {\n",
       "        vertical-align: middle;\n",
       "    }\n",
       "\n",
       "    .dataframe tbody tr th {\n",
       "        vertical-align: top;\n",
       "    }\n",
       "\n",
       "    .dataframe thead th {\n",
       "        text-align: right;\n",
       "    }\n",
       "</style>\n",
       "<table border=\"1\" class=\"dataframe\">\n",
       "  <thead>\n",
       "    <tr style=\"text-align: right;\">\n",
       "      <th></th>\n",
       "      <th>0</th>\n",
       "    </tr>\n",
       "  </thead>\n",
       "  <tbody>\n",
       "    <tr>\n",
       "      <th>45</th>\n",
       "      <td>0.303142</td>\n",
       "    </tr>\n",
       "    <tr>\n",
       "      <th>46</th>\n",
       "      <td>0.376569</td>\n",
       "    </tr>\n",
       "    <tr>\n",
       "      <th>47</th>\n",
       "      <td>0.455325</td>\n",
       "    </tr>\n",
       "    <tr>\n",
       "      <th>48</th>\n",
       "      <td>0.322410</td>\n",
       "    </tr>\n",
       "    <tr>\n",
       "      <th>49</th>\n",
       "      <td>0.265057</td>\n",
       "    </tr>\n",
       "  </tbody>\n",
       "</table>\n",
       "</div>"
      ],
      "text/plain": [
       "           0\n",
       "45  0.303142\n",
       "46  0.376569\n",
       "47  0.455325\n",
       "48  0.322410\n",
       "49  0.265057"
      ]
     },
     "execution_count": 7,
     "metadata": {},
     "output_type": "execute_result"
    }
   ],
   "source": [
    "tempSimpleAddtion.tail()"
   ]
  },
  {
   "cell_type": "code",
   "execution_count": 23,
   "id": "856bcd1e",
   "metadata": {},
   "outputs": [
    {
     "data": {
      "image/png": "[encoded data removed]",
      "text/plain": [
       "<Figure size 640x480 with 1 Axes>"
      ]
     },
     "metadata": {},
     "output_type": "display_data"
    }
   ],
   "source": [
    "### Drawing Plot for Simple Addition\n",
    "import matplotlib.pyplot as plt\n",
    "\n",
    "### Simple Addition의 정규화\n",
    "# Mapping Function\n",
    "def mapping(x,input_min,input_max,output_min,output_max):\n",
    "    val = (x-input_min)*(output_max-output_min)/(input_max-input_min)+output_min\n",
    "    if val < output_min:\n",
    "        val = output_min\n",
    "    elif val > output_max:\n",
    "        val = output_max\n",
    "    return val\n",
    "# 정규화\n",
    "simpleAdditionNorm = []\n",
    "for a in simpleAddition:\n",
    "    tempVal = 1.0-mapping(a, 0.2, 0.5, 0.0, 1.0)\n",
    "    simpleAdditionNorm.append(tempVal)\n",
    "\n",
    "### Human-rating & simpleAddition의 산점도 그리기\n",
    "plt.scatter(humanRating, simpleAdditionNorm, marker = 'D')\n",
    "\n",
    "### 사선 긋기\n",
    "x = np.arange(0,2)\n",
    "y=x\n",
    "plt.plot(x,y,'-')\n",
    "\n",
    "### 산점도 라벨링\n",
    "plt.xlabel('Human Rating')\n",
    "plt.ylabel('Simple Addition')\n",
    "plt.show()"
   ]
  },
  {
   "cell_type": "code",
   "execution_count": 51,
   "id": "74da9e9c",
   "metadata": {},
   "outputs": [
    {
     "name": "stderr",
     "output_type": "stream",
     "text": [
      "C:\\Users\\LeeSooHwan\\AppData\\Local\\Temp\\ipykernel_33496\\1053800381.py:6: VisibleDeprecationWarning: Creating an ndarray from ragged nested sequences (which is a list-or-tuple of lists-or-tuples-or ndarrays with different lengths or shapes) is deprecated. If you meant to do this, you must specify 'dtype=object' when creating the ndarray.\n",
      "  tempSimpleAdditionNorm = np.squeeze(np.asarray(simpleAdditionNorm))\n"
     ]
    },
    {
     "data": {
      "text/plain": [
       "PearsonRResult(statistic=array([0.84216407]), pvalue=1.7988199762175145e-14)"
      ]
     },
     "execution_count": 51,
     "metadata": {},
     "output_type": "execute_result"
    }
   ],
   "source": [
    "### Simple Addtion Pearson R\n",
    "\n",
    "from scipy.stats import pearsonr\n",
    "\n",
    "tempHumanRating = np.squeeze(np.asarray(humanRating))\n",
    "tempSimpleAdditionNorm = np.squeeze(np.asarray(simpleAdditionNorm))\n",
    "\n",
    "pearsonr(tempHumanRating,tempSimpleAdditionNorm )"
   ]
  },
  {
   "cell_type": "markdown",
   "id": "08e1701a",
   "metadata": {},
   "source": [
    "# Data Preprocessing"
   ]
  },
  {
   "cell_type": "code",
   "execution_count": 38,
   "id": "cc8c6f32",
   "metadata": {},
   "outputs": [],
   "source": [
    "### 훈련세트와 테스트 세트로 나누기 => 논문 방법\n",
    "from sklearn.model_selection import train_test_split\n",
    "\n",
    "train_input, test_input, train_target, test_target = train_test_split(allBPD, humanRating)"
   ]
  },
  {
   "cell_type": "code",
   "execution_count": 28,
   "id": "b3df7b23",
   "metadata": {},
   "outputs": [],
   "source": [
    "### 훈련세트와 테스트 세트로 나누기 => simple addition\n",
    "from sklearn.model_selection import train_test_split\n",
    "\n",
    "train_input, test_input, train_target, test_target = train_test_split(simpleAddition, humanRating)"
   ]
  },
  {
   "cell_type": "markdown",
   "id": "4428cc40",
   "metadata": {},
   "source": [
    "# Linear SVR"
   ]
  },
  {
   "cell_type": "code",
   "execution_count": 35,
   "id": "b4f0aaee",
   "metadata": {},
   "outputs": [
    {
     "name": "stderr",
     "output_type": "stream",
     "text": [
      "C:\\Users\\LeeSooHwan\\anaconda3\\envs\\py38\\lib\\site-packages\\sklearn\\utils\\validation.py:1111: DataConversionWarning: A column-vector y was passed when a 1d array was expected. Please change the shape of y to (n_samples, ), for example using ravel().\n",
      "  y = column_or_1d(y, warn=True)\n"
     ]
    },
    {
     "data": {
      "text/html": [
       "<style>#sk-container-id-2 {color: black;background-color: white;}#sk-container-id-2 pre{padding: 0;}#sk-container-id-2 div.sk-toggleable {background-color: white;}#sk-container-id-2 label.sk-toggleable__label {cursor: pointer;display: block;width: 100%;margin-bottom: 0;padding: 0.3em;box-sizing: border-box;text-align: center;}#sk-container-id-2 label.sk-toggleable__label-arrow:before {content: \"▸\";float: left;margin-right: 0.25em;color: #696969;}#sk-container-id-2 label.sk-toggleable__label-arrow:hover:before {color: black;}#sk-container-id-2 div.sk-estimator:hover label.sk-toggleable__label-arrow:before {color: black;}#sk-container-id-2 div.sk-toggleable__content {max-height: 0;max-width: 0;overflow: hidden;text-align: left;background-color: #f0f8ff;}#sk-container-id-2 div.sk-toggleable__content pre {margin: 0.2em;color: black;border-radius: 0.25em;background-color: #f0f8ff;}#sk-container-id-2 input.sk-toggleable__control:checked~div.sk-toggleable__content {max-height: 200px;max-width: 100%;overflow: auto;}#sk-container-id-2 input.sk-toggleable__control:checked~label.sk-toggleable__label-arrow:before {content: \"▾\";}#sk-container-id-2 div.sk-estimator input.sk-toggleable__control:checked~label.sk-toggleable__label {background-color: #d4ebff;}#sk-container-id-2 div.sk-label input.sk-toggleable__control:checked~label.sk-toggleable__label {background-color: #d4ebff;}#sk-container-id-2 input.sk-hidden--visually {border: 0;clip: rect(1px 1px 1px 1px);clip: rect(1px, 1px, 1px, 1px);height: 1px;margin: -1px;overflow: hidden;padding: 0;position: absolute;width: 1px;}#sk-container-id-2 div.sk-estimator {font-family: monospace;background-color: #f0f8ff;border: 1px dotted black;border-radius: 0.25em;box-sizing: border-box;margin-bottom: 0.5em;}#sk-container-id-2 div.sk-estimator:hover {background-color: #d4ebff;}#sk-container-id-2 div.sk-parallel-item::after {content: \"\";width: 100%;border-bottom: 1px solid gray;flex-grow: 1;}#sk-container-id-2 div.sk-label:hover label.sk-toggleable__label {background-color: #d4ebff;}#sk-container-id-2 div.sk-serial::before {content: \"\";position: absolute;border-left: 1px solid gray;box-sizing: border-box;top: 0;bottom: 0;left: 50%;z-index: 0;}#sk-container-id-2 div.sk-serial {display: flex;flex-direction: column;align-items: center;background-color: white;padding-right: 0.2em;padding-left: 0.2em;position: relative;}#sk-container-id-2 div.sk-item {position: relative;z-index: 1;}#sk-container-id-2 div.sk-parallel {display: flex;align-items: stretch;justify-content: center;background-color: white;position: relative;}#sk-container-id-2 div.sk-item::before, #sk-container-id-2 div.sk-parallel-item::before {content: \"\";position: absolute;border-left: 1px solid gray;box-sizing: border-box;top: 0;bottom: 0;left: 50%;z-index: -1;}#sk-container-id-2 div.sk-parallel-item {display: flex;flex-direction: column;z-index: 1;position: relative;background-color: white;}#sk-container-id-2 div.sk-parallel-item:first-child::after {align-self: flex-end;width: 50%;}#sk-container-id-2 div.sk-parallel-item:last-child::after {align-self: flex-start;width: 50%;}#sk-container-id-2 div.sk-parallel-item:only-child::after {width: 0;}#sk-container-id-2 div.sk-dashed-wrapped {border: 1px dashed gray;margin: 0 0.4em 0.5em 0.4em;box-sizing: border-box;padding-bottom: 0.4em;background-color: white;}#sk-container-id-2 div.sk-label label {font-family: monospace;font-weight: bold;display: inline-block;line-height: 1.2em;}#sk-container-id-2 div.sk-label-container {text-align: center;}#sk-container-id-2 div.sk-container {/* jupyter's `normalize.less` sets `[hidden] { display: none; }` but bootstrap.min.css set `[hidden] { display: none !important; }` so we also need the `!important` here to be able to override the default hidden behavior on the sphinx rendered scikit-learn.org. See: https://github.com/scikit-learn/scikit-learn/issues/21755 */display: inline-block !important;position: relative;}#sk-container-id-2 div.sk-text-repr-fallback {display: none;}</style><div id=\"sk-container-id-2\" class=\"sk-top-container\"><div class=\"sk-text-repr-fallback\"><pre>LinearSVR()</pre><b>In a Jupyter environment, please rerun this cell to show the HTML representation or trust the notebook. <br />On GitHub, the HTML representation is unable to render, please try loading this page with nbviewer.org.</b></div><div class=\"sk-container\" hidden><div class=\"sk-item\"><div class=\"sk-estimator sk-toggleable\"><input class=\"sk-toggleable__control sk-hidden--visually\" id=\"sk-estimator-id-2\" type=\"checkbox\" checked><label for=\"sk-estimator-id-2\" class=\"sk-toggleable__label sk-toggleable__label-arrow\">LinearSVR</label><div class=\"sk-toggleable__content\"><pre>LinearSVR()</pre></div></div></div></div></div>"
      ],
      "text/plain": [
       "LinearSVR()"
      ]
     },
     "execution_count": 35,
     "metadata": {},
     "output_type": "execute_result"
    }
   ],
   "source": [
    "### SVR\n",
    "from sklearn.svm import LinearSVR\n",
    "\n",
    "svm_reg = LinearSVR() # Tuning epsilon val!!\n",
    "svm_reg.fit(train_input, train_target)"
   ]
  },
  {
   "cell_type": "code",
   "execution_count": 30,
   "id": "cea780b8",
   "metadata": {},
   "outputs": [
    {
     "name": "stdout",
     "output_type": "stream",
     "text": [
      "0.3673491864149516\n",
      "0.33361704694645267\n"
     ]
    }
   ],
   "source": [
    "print(svm_reg.score(train_input, train_target))    # 훈련세트 r^2\n",
    "print(svm_reg.score(test_input, test_target))    # 테스트세트 r^2"
   ]
  },
  {
   "cell_type": "code",
   "execution_count": 31,
   "id": "525c8132",
   "metadata": {},
   "outputs": [
    {
     "data": {
      "image/png": "[encoded data removed]",
      "text/plain": [
       "<Figure size 640x480 with 1 Axes>"
      ]
     },
     "metadata": {},
     "output_type": "display_data"
    }
   ],
   "source": [
    "### Drawing Plot for SVR\n",
    "import matplotlib.pyplot as plt\n",
    "\n",
    "### Human-rating & SVR prediction의 산점도 그리기\n",
    "# plt.scatter(humanRating, svm_reg.predict(allBPD), marker = 'd')\n",
    "plt.scatter(humanRating, svm_reg.predict(simpleAddition), marker = 'd')\n",
    "\n",
    "plt.plot(x,y,'-')\n",
    "\n",
    "### 산점도 라벨링\n",
    "plt.xlabel('Human Rating')\n",
    "plt.ylabel('System Prediction')\n",
    "plt.show()"
   ]
  },
  {
   "cell_type": "code",
   "execution_count": 48,
   "id": "30f7036d",
   "metadata": {},
   "outputs": [
    {
     "data": {
      "text/plain": [
       "PearsonRResult(statistic=0.8358046844215196, pvalue=4.303015036215309e-14)"
      ]
     },
     "execution_count": 48,
     "metadata": {},
     "output_type": "execute_result"
    }
   ],
   "source": [
    "### Simple Addtion Pearson R\n",
    "\n",
    "from scipy.stats import pearsonr\n",
    "\n",
    "tempHumanRating = np.squeeze(np.asarray(humanRating))\n",
    "tempPrediction = np.squeeze(np.asarray(svm_reg.predict(simpleAddition).reshape(-1,1)))\n",
    "\n",
    "pearsonr(tempHumanRating,tempPrediction )"
   ]
  },
  {
   "cell_type": "code",
   "execution_count": 44,
   "id": "013a2bd1",
   "metadata": {},
   "outputs": [
    {
     "data": {
      "text/plain": [
       "array([0.40032879, 0.36027422, 0.37534208, 0.39558935, 0.45400027,\n",
       "       0.37833257, 0.38488392, 0.41387749, 0.41559277, 0.4       ,\n",
       "       0.30728472, 0.39215543, 0.37492612, 0.44723804, 0.38868219,\n",
       "       0.42841848, 0.39574295, 0.32928746, 0.42537316, 0.3954447 ,\n",
       "       0.41442651, 0.24650588, 0.40296994, 0.34965944, 0.37571613,\n",
       "       0.4095101 , 0.39606136, 0.39491942, 0.38423751, 0.37557408,\n",
       "       0.36677431, 0.41819605, 0.42604307, 0.42233823, 0.39454895,\n",
       "       0.45315973, 0.37741337, 0.37830713, 0.19197345, 0.20988199,\n",
       "       0.35503079, 0.45819294, 0.39451516, 0.3825803 , 0.36751955,\n",
       "       0.407247  , 0.33390532, 0.25523992, 0.38800175, 0.44528841])"
      ]
     },
     "execution_count": 44,
     "metadata": {},
     "output_type": "execute_result"
    }
   ],
   "source": [
    "svm_reg.predict(simpleAddition)"
   ]
  },
  {
   "cell_type": "markdown",
   "id": "79c15ec8",
   "metadata": {},
   "source": [
    "# Linear Regression"
   ]
  },
  {
   "cell_type": "code",
   "execution_count": 80,
   "id": "837c2fe4",
   "metadata": {},
   "outputs": [
    {
     "data": {
      "text/html": [
       "<style>#sk-container-id-4 {color: black;background-color: white;}#sk-container-id-4 pre{padding: 0;}#sk-container-id-4 div.sk-toggleable {background-color: white;}#sk-container-id-4 label.sk-toggleable__label {cursor: pointer;display: block;width: 100%;margin-bottom: 0;padding: 0.3em;box-sizing: border-box;text-align: center;}#sk-container-id-4 label.sk-toggleable__label-arrow:before {content: \"▸\";float: left;margin-right: 0.25em;color: #696969;}#sk-container-id-4 label.sk-toggleable__label-arrow:hover:before {color: black;}#sk-container-id-4 div.sk-estimator:hover label.sk-toggleable__label-arrow:before {color: black;}#sk-container-id-4 div.sk-toggleable__content {max-height: 0;max-width: 0;overflow: hidden;text-align: left;background-color: #f0f8ff;}#sk-container-id-4 div.sk-toggleable__content pre {margin: 0.2em;color: black;border-radius: 0.25em;background-color: #f0f8ff;}#sk-container-id-4 input.sk-toggleable__control:checked~div.sk-toggleable__content {max-height: 200px;max-width: 100%;overflow: auto;}#sk-container-id-4 input.sk-toggleable__control:checked~label.sk-toggleable__label-arrow:before {content: \"▾\";}#sk-container-id-4 div.sk-estimator input.sk-toggleable__control:checked~label.sk-toggleable__label {background-color: #d4ebff;}#sk-container-id-4 div.sk-label input.sk-toggleable__control:checked~label.sk-toggleable__label {background-color: #d4ebff;}#sk-container-id-4 input.sk-hidden--visually {border: 0;clip: rect(1px 1px 1px 1px);clip: rect(1px, 1px, 1px, 1px);height: 1px;margin: -1px;overflow: hidden;padding: 0;position: absolute;width: 1px;}#sk-container-id-4 div.sk-estimator {font-family: monospace;background-color: #f0f8ff;border: 1px dotted black;border-radius: 0.25em;box-sizing: border-box;margin-bottom: 0.5em;}#sk-container-id-4 div.sk-estimator:hover {background-color: #d4ebff;}#sk-container-id-4 div.sk-parallel-item::after {content: \"\";width: 100%;border-bottom: 1px solid gray;flex-grow: 1;}#sk-container-id-4 div.sk-label:hover label.sk-toggleable__label {background-color: #d4ebff;}#sk-container-id-4 div.sk-serial::before {content: \"\";position: absolute;border-left: 1px solid gray;box-sizing: border-box;top: 0;bottom: 0;left: 50%;z-index: 0;}#sk-container-id-4 div.sk-serial {display: flex;flex-direction: column;align-items: center;background-color: white;padding-right: 0.2em;padding-left: 0.2em;position: relative;}#sk-container-id-4 div.sk-item {position: relative;z-index: 1;}#sk-container-id-4 div.sk-parallel {display: flex;align-items: stretch;justify-content: center;background-color: white;position: relative;}#sk-container-id-4 div.sk-item::before, #sk-container-id-4 div.sk-parallel-item::before {content: \"\";position: absolute;border-left: 1px solid gray;box-sizing: border-box;top: 0;bottom: 0;left: 50%;z-index: -1;}#sk-container-id-4 div.sk-parallel-item {display: flex;flex-direction: column;z-index: 1;position: relative;background-color: white;}#sk-container-id-4 div.sk-parallel-item:first-child::after {align-self: flex-end;width: 50%;}#sk-container-id-4 div.sk-parallel-item:last-child::after {align-self: flex-start;width: 50%;}#sk-container-id-4 div.sk-parallel-item:only-child::after {width: 0;}#sk-container-id-4 div.sk-dashed-wrapped {border: 1px dashed gray;margin: 0 0.4em 0.5em 0.4em;box-sizing: border-box;padding-bottom: 0.4em;background-color: white;}#sk-container-id-4 div.sk-label label {font-family: monospace;font-weight: bold;display: inline-block;line-height: 1.2em;}#sk-container-id-4 div.sk-label-container {text-align: center;}#sk-container-id-4 div.sk-container {/* jupyter's `normalize.less` sets `[hidden] { display: none; }` but bootstrap.min.css set `[hidden] { display: none !important; }` so we also need the `!important` here to be able to override the default hidden behavior on the sphinx rendered scikit-learn.org. See: https://github.com/scikit-learn/scikit-learn/issues/21755 */display: inline-block !important;position: relative;}#sk-container-id-4 div.sk-text-repr-fallback {display: none;}</style><div id=\"sk-container-id-4\" class=\"sk-top-container\"><div class=\"sk-text-repr-fallback\"><pre>LinearRegression()</pre><b>In a Jupyter environment, please rerun this cell to show the HTML representation or trust the notebook. <br />On GitHub, the HTML representation is unable to render, please try loading this page with nbviewer.org.</b></div><div class=\"sk-container\" hidden><div class=\"sk-item\"><div class=\"sk-estimator sk-toggleable\"><input class=\"sk-toggleable__control sk-hidden--visually\" id=\"sk-estimator-id-4\" type=\"checkbox\" checked><label for=\"sk-estimator-id-4\" class=\"sk-toggleable__label sk-toggleable__label-arrow\">LinearRegression</label><div class=\"sk-toggleable__content\"><pre>LinearRegression()</pre></div></div></div></div></div>"
      ],
      "text/plain": [
       "LinearRegression()"
      ]
     },
     "execution_count": 80,
     "metadata": {},
     "output_type": "execute_result"
    }
   ],
   "source": [
    "### Linear Regression\n",
    "from sklearn.linear_model import LinearRegression\n",
    "\n",
    "lr = LinearRegression()\n",
    "lr.fit(train_input, train_target)"
   ]
  },
  {
   "cell_type": "code",
   "execution_count": 81,
   "id": "7d170986",
   "metadata": {},
   "outputs": [
    {
     "name": "stdout",
     "output_type": "stream",
     "text": [
      "0.7020788534080993\n",
      "0.6877087857091335\n"
     ]
    }
   ],
   "source": [
    "print(lr.score(train_input, train_target))    # 훈련세트 r^2\n",
    "print(lr.score(test_input, test_target))    # 테스트세트 r^2"
   ]
  },
  {
   "cell_type": "code",
   "execution_count": 117,
   "id": "0c6fbef9",
   "metadata": {},
   "outputs": [
    {
     "data": {
      "text/plain": [
       "array([[0.41934348]])"
      ]
     },
     "execution_count": 117,
     "metadata": {},
     "output_type": "execute_result"
    }
   ],
   "source": [
    "lr.predict([[0.323]])"
   ]
  },
  {
   "cell_type": "code",
   "execution_count": 111,
   "id": "76bdc117",
   "metadata": {},
   "outputs": [
    {
     "data": {
      "text/plain": [
       "['../../model/lr_model.pkl']"
      ]
     },
     "execution_count": 111,
     "metadata": {},
     "output_type": "execute_result"
    }
   ],
   "source": [
    "# Linear Regression 모델의 저장\n",
    "import joblib\n",
    "\n",
    "joblib.dump(lr, '../../model/lr_model.pkl')"
   ]
  },
  {
   "cell_type": "code",
   "execution_count": 54,
   "id": "74da07e1",
   "metadata": {},
   "outputs": [],
   "source": [
    "import joblib\n",
    "\n",
    "lr = joblib.load('../../model/lr_model.pkl')"
   ]
  },
  {
   "cell_type": "code",
   "execution_count": 119,
   "id": "88e6d2fc",
   "metadata": {},
   "outputs": [
    {
     "data": {
      "image/png": "[encoded data removed]",
      "text/plain": [
       "<Figure size 640x480 with 1 Axes>"
      ]
     },
     "metadata": {},
     "output_type": "display_data"
    }
   ],
   "source": [
    "### Drawing Plot for Linear Regression\n",
    "import matplotlib.pyplot as plt\n",
    "\n",
    "### Human-rating & SVR prediction의 산점도 그리기\n",
    "# plt.scatter(humanRating, svm_reg.predict(allBPD), marker = 'd')\n",
    "plt.scatter(humanRating, lr.predict(simpleAddition), marker = 'd')\n",
    "\n",
    "plt.plot(x,y,'-')\n",
    "\n",
    "### 산점도 라벨링\n",
    "plt.xlabel('Human Rating')\n",
    "plt.ylabel('System Prediction')\n",
    "plt.show()"
   ]
  },
  {
   "cell_type": "code",
   "execution_count": 55,
   "id": "f4e32285",
   "metadata": {},
   "outputs": [
    {
     "data": {
      "text/plain": [
       "PearsonRResult(statistic=0.8358046844215196, pvalue=4.303015036215309e-14)"
      ]
     },
     "execution_count": 55,
     "metadata": {},
     "output_type": "execute_result"
    }
   ],
   "source": [
    "### Simple Addtion Pearson R\n",
    "\n",
    "from scipy.stats import pearsonr\n",
    "\n",
    "tempHumanRating = np.squeeze(np.asarray(humanRating))\n",
    "tempPrediction = np.squeeze(np.asarray(lr.predict(simpleAddition).reshape(-1,1)))\n",
    "\n",
    "pearsonr(tempHumanRating,tempPrediction )"
   ]
  },
  {
   "cell_type": "markdown",
   "id": "5116fbeb",
   "metadata": {},
   "source": [
    "# Ridge Regression"
   ]
  },
  {
   "cell_type": "code",
   "execution_count": 99,
   "id": "656d0301",
   "metadata": {},
   "outputs": [
    {
     "data": {
      "text/html": [
       "<style>#sk-container-id-11 {color: black;background-color: white;}#sk-container-id-11 pre{padding: 0;}#sk-container-id-11 div.sk-toggleable {background-color: white;}#sk-container-id-11 label.sk-toggleable__label {cursor: pointer;display: block;width: 100%;margin-bottom: 0;padding: 0.3em;box-sizing: border-box;text-align: center;}#sk-container-id-11 label.sk-toggleable__label-arrow:before {content: \"▸\";float: left;margin-right: 0.25em;color: #696969;}#sk-container-id-11 label.sk-toggleable__label-arrow:hover:before {color: black;}#sk-container-id-11 div.sk-estimator:hover label.sk-toggleable__label-arrow:before {color: black;}#sk-container-id-11 div.sk-toggleable__content {max-height: 0;max-width: 0;overflow: hidden;text-align: left;background-color: #f0f8ff;}#sk-container-id-11 div.sk-toggleable__content pre {margin: 0.2em;color: black;border-radius: 0.25em;background-color: #f0f8ff;}#sk-container-id-11 input.sk-toggleable__control:checked~div.sk-toggleable__content {max-height: 200px;max-width: 100%;overflow: auto;}#sk-container-id-11 input.sk-toggleable__control:checked~label.sk-toggleable__label-arrow:before {content: \"▾\";}#sk-container-id-11 div.sk-estimator input.sk-toggleable__control:checked~label.sk-toggleable__label {background-color: #d4ebff;}#sk-container-id-11 div.sk-label input.sk-toggleable__control:checked~label.sk-toggleable__label {background-color: #d4ebff;}#sk-container-id-11 input.sk-hidden--visually {border: 0;clip: rect(1px 1px 1px 1px);clip: rect(1px, 1px, 1px, 1px);height: 1px;margin: -1px;overflow: hidden;padding: 0;position: absolute;width: 1px;}#sk-container-id-11 div.sk-estimator {font-family: monospace;background-color: #f0f8ff;border: 1px dotted black;border-radius: 0.25em;box-sizing: border-box;margin-bottom: 0.5em;}#sk-container-id-11 div.sk-estimator:hover {background-color: #d4ebff;}#sk-container-id-11 div.sk-parallel-item::after {content: \"\";width: 100%;border-bottom: 1px solid gray;flex-grow: 1;}#sk-container-id-11 div.sk-label:hover label.sk-toggleable__label {background-color: #d4ebff;}#sk-container-id-11 div.sk-serial::before {content: \"\";position: absolute;border-left: 1px solid gray;box-sizing: border-box;top: 0;bottom: 0;left: 50%;z-index: 0;}#sk-container-id-11 div.sk-serial {display: flex;flex-direction: column;align-items: center;background-color: white;padding-right: 0.2em;padding-left: 0.2em;position: relative;}#sk-container-id-11 div.sk-item {position: relative;z-index: 1;}#sk-container-id-11 div.sk-parallel {display: flex;align-items: stretch;justify-content: center;background-color: white;position: relative;}#sk-container-id-11 div.sk-item::before, #sk-container-id-11 div.sk-parallel-item::before {content: \"\";position: absolute;border-left: 1px solid gray;box-sizing: border-box;top: 0;bottom: 0;left: 50%;z-index: -1;}#sk-container-id-11 div.sk-parallel-item {display: flex;flex-direction: column;z-index: 1;position: relative;background-color: white;}#sk-container-id-11 div.sk-parallel-item:first-child::after {align-self: flex-end;width: 50%;}#sk-container-id-11 div.sk-parallel-item:last-child::after {align-self: flex-start;width: 50%;}#sk-container-id-11 div.sk-parallel-item:only-child::after {width: 0;}#sk-container-id-11 div.sk-dashed-wrapped {border: 1px dashed gray;margin: 0 0.4em 0.5em 0.4em;box-sizing: border-box;padding-bottom: 0.4em;background-color: white;}#sk-container-id-11 div.sk-label label {font-family: monospace;font-weight: bold;display: inline-block;line-height: 1.2em;}#sk-container-id-11 div.sk-label-container {text-align: center;}#sk-container-id-11 div.sk-container {/* jupyter's `normalize.less` sets `[hidden] { display: none; }` but bootstrap.min.css set `[hidden] { display: none !important; }` so we also need the `!important` here to be able to override the default hidden behavior on the sphinx rendered scikit-learn.org. See: https://github.com/scikit-learn/scikit-learn/issues/21755 */display: inline-block !important;position: relative;}#sk-container-id-11 div.sk-text-repr-fallback {display: none;}</style><div id=\"sk-container-id-11\" class=\"sk-top-container\"><div class=\"sk-text-repr-fallback\"><pre>Ridge(alpha=0.001)</pre><b>In a Jupyter environment, please rerun this cell to show the HTML representation or trust the notebook. <br />On GitHub, the HTML representation is unable to render, please try loading this page with nbviewer.org.</b></div><div class=\"sk-container\" hidden><div class=\"sk-item\"><div class=\"sk-estimator sk-toggleable\"><input class=\"sk-toggleable__control sk-hidden--visually\" id=\"sk-estimator-id-11\" type=\"checkbox\" checked><label for=\"sk-estimator-id-11\" class=\"sk-toggleable__label sk-toggleable__label-arrow\">Ridge</label><div class=\"sk-toggleable__content\"><pre>Ridge(alpha=0.001)</pre></div></div></div></div></div>"
      ],
      "text/plain": [
       "Ridge(alpha=0.001)"
      ]
     },
     "execution_count": 99,
     "metadata": {},
     "output_type": "execute_result"
    }
   ],
   "source": [
    "# Ridge Regression\n",
    "from sklearn.linear_model import Ridge\n",
    "\n",
    "ridge = Ridge(alpha=0.001)\n",
    "ridge.fit(train_input, train_target)"
   ]
  },
  {
   "cell_type": "code",
   "execution_count": 100,
   "id": "d6c48cbc",
   "metadata": {},
   "outputs": [
    {
     "name": "stdout",
     "output_type": "stream",
     "text": [
      "0.7020214007490548\n",
      "0.6874434007574135\n"
     ]
    }
   ],
   "source": [
    "print(ridge.score(train_input, train_target))    # 훈련세트 점수\n",
    "print(ridge.score(test_input, test_target))    # 테스트세트 점수"
   ]
  },
  {
   "cell_type": "code",
   "execution_count": 101,
   "id": "8a40ad09",
   "metadata": {},
   "outputs": [
    {
     "data": {
      "image/png": "[encoded data removed]",
      "text/plain": [
       "<Figure size 640x480 with 1 Axes>"
      ]
     },
     "metadata": {},
     "output_type": "display_data"
    }
   ],
   "source": [
    "### Drawing Plot for Ridge Regression\n",
    "import matplotlib.pyplot as plt\n",
    "\n",
    "### Human-rating & SVR prediction의 산점도 그리기\n",
    "# plt.scatter(humanRating, svm_reg.predict(allBPD), marker = 'd')\n",
    "plt.scatter(humanRating, ridge.predict(simpleAddition), marker = 'd')\n",
    "\n",
    "\n",
    "\n",
    "### 산점도 라벨링\n",
    "plt.xlabel('Human Rating')\n",
    "plt.ylabel('System Prediction')\n",
    "plt.show()"
   ]
  },
  {
   "cell_type": "markdown",
   "id": "e26b9b3b",
   "metadata": {},
   "source": [
    "# Lasso Regression"
   ]
  },
  {
   "cell_type": "code",
   "execution_count": 108,
   "id": "e00dcafa",
   "metadata": {},
   "outputs": [
    {
     "data": {
      "text/html": [
       "<style>#sk-container-id-15 {color: black;background-color: white;}#sk-container-id-15 pre{padding: 0;}#sk-container-id-15 div.sk-toggleable {background-color: white;}#sk-container-id-15 label.sk-toggleable__label {cursor: pointer;display: block;width: 100%;margin-bottom: 0;padding: 0.3em;box-sizing: border-box;text-align: center;}#sk-container-id-15 label.sk-toggleable__label-arrow:before {content: \"▸\";float: left;margin-right: 0.25em;color: #696969;}#sk-container-id-15 label.sk-toggleable__label-arrow:hover:before {color: black;}#sk-container-id-15 div.sk-estimator:hover label.sk-toggleable__label-arrow:before {color: black;}#sk-container-id-15 div.sk-toggleable__content {max-height: 0;max-width: 0;overflow: hidden;text-align: left;background-color: #f0f8ff;}#sk-container-id-15 div.sk-toggleable__content pre {margin: 0.2em;color: black;border-radius: 0.25em;background-color: #f0f8ff;}#sk-container-id-15 input.sk-toggleable__control:checked~div.sk-toggleable__content {max-height: 200px;max-width: 100%;overflow: auto;}#sk-container-id-15 input.sk-toggleable__control:checked~label.sk-toggleable__label-arrow:before {content: \"▾\";}#sk-container-id-15 div.sk-estimator input.sk-toggleable__control:checked~label.sk-toggleable__label {background-color: #d4ebff;}#sk-container-id-15 div.sk-label input.sk-toggleable__control:checked~label.sk-toggleable__label {background-color: #d4ebff;}#sk-container-id-15 input.sk-hidden--visually {border: 0;clip: rect(1px 1px 1px 1px);clip: rect(1px, 1px, 1px, 1px);height: 1px;margin: -1px;overflow: hidden;padding: 0;position: absolute;width: 1px;}#sk-container-id-15 div.sk-estimator {font-family: monospace;background-color: #f0f8ff;border: 1px dotted black;border-radius: 0.25em;box-sizing: border-box;margin-bottom: 0.5em;}#sk-container-id-15 div.sk-estimator:hover {background-color: #d4ebff;}#sk-container-id-15 div.sk-parallel-item::after {content: \"\";width: 100%;border-bottom: 1px solid gray;flex-grow: 1;}#sk-container-id-15 div.sk-label:hover label.sk-toggleable__label {background-color: #d4ebff;}#sk-container-id-15 div.sk-serial::before {content: \"\";position: absolute;border-left: 1px solid gray;box-sizing: border-box;top: 0;bottom: 0;left: 50%;z-index: 0;}#sk-container-id-15 div.sk-serial {display: flex;flex-direction: column;align-items: center;background-color: white;padding-right: 0.2em;padding-left: 0.2em;position: relative;}#sk-container-id-15 div.sk-item {position: relative;z-index: 1;}#sk-container-id-15 div.sk-parallel {display: flex;align-items: stretch;justify-content: center;background-color: white;position: relative;}#sk-container-id-15 div.sk-item::before, #sk-container-id-15 div.sk-parallel-item::before {content: \"\";position: absolute;border-left: 1px solid gray;box-sizing: border-box;top: 0;bottom: 0;left: 50%;z-index: -1;}#sk-container-id-15 div.sk-parallel-item {display: flex;flex-direction: column;z-index: 1;position: relative;background-color: white;}#sk-container-id-15 div.sk-parallel-item:first-child::after {align-self: flex-end;width: 50%;}#sk-container-id-15 div.sk-parallel-item:last-child::after {align-self: flex-start;width: 50%;}#sk-container-id-15 div.sk-parallel-item:only-child::after {width: 0;}#sk-container-id-15 div.sk-dashed-wrapped {border: 1px dashed gray;margin: 0 0.4em 0.5em 0.4em;box-sizing: border-box;padding-bottom: 0.4em;background-color: white;}#sk-container-id-15 div.sk-label label {font-family: monospace;font-weight: bold;display: inline-block;line-height: 1.2em;}#sk-container-id-15 div.sk-label-container {text-align: center;}#sk-container-id-15 div.sk-container {/* jupyter's `normalize.less` sets `[hidden] { display: none; }` but bootstrap.min.css set `[hidden] { display: none !important; }` so we also need the `!important` here to be able to override the default hidden behavior on the sphinx rendered scikit-learn.org. See: https://github.com/scikit-learn/scikit-learn/issues/21755 */display: inline-block !important;position: relative;}#sk-container-id-15 div.sk-text-repr-fallback {display: none;}</style><div id=\"sk-container-id-15\" class=\"sk-top-container\"><div class=\"sk-text-repr-fallback\"><pre>Lasso(alpha=0.01, max_iter=10000)</pre><b>In a Jupyter environment, please rerun this cell to show the HTML representation or trust the notebook. <br />On GitHub, the HTML representation is unable to render, please try loading this page with nbviewer.org.</b></div><div class=\"sk-container\" hidden><div class=\"sk-item\"><div class=\"sk-estimator sk-toggleable\"><input class=\"sk-toggleable__control sk-hidden--visually\" id=\"sk-estimator-id-15\" type=\"checkbox\" checked><label for=\"sk-estimator-id-15\" class=\"sk-toggleable__label sk-toggleable__label-arrow\">Lasso</label><div class=\"sk-toggleable__content\"><pre>Lasso(alpha=0.01, max_iter=10000)</pre></div></div></div></div></div>"
      ],
      "text/plain": [
       "Lasso(alpha=0.01, max_iter=10000)"
      ]
     },
     "execution_count": 108,
     "metadata": {},
     "output_type": "execute_result"
    }
   ],
   "source": [
    "# 라쏘 회귀\n",
    "from sklearn.linear_model import Lasso\n",
    "\n",
    "lasso = Lasso(alpha=0.01, max_iter = 10000)\n",
    "lasso.fit(train_input, train_target)"
   ]
  },
  {
   "cell_type": "code",
   "execution_count": 109,
   "id": "e38b7ac0",
   "metadata": {},
   "outputs": [
    {
     "name": "stdout",
     "output_type": "stream",
     "text": [
      "0.0\n",
      "-0.006457561567358772\n"
     ]
    }
   ],
   "source": [
    "print(lasso.score(train_input, train_target))    # 훈련세트 점수\n",
    "print(lasso.score(test_input, test_target))    # 테스트세트 점수"
   ]
  },
  {
   "cell_type": "code",
   "execution_count": null,
   "id": "b482c403",
   "metadata": {},
   "outputs": [],
   "source": []
  }
 ],
 "metadata": {
  "kernelspec": {
   "display_name": "Python 3 (ipykernel)",
   "language": "python",
   "name": "python3"
  },
  "language_info": {
   "codemirror_mode": {
    "name": "ipython",
    "version": 3
   },
   "file_extension": ".py",
   "mimetype": "text/x-python",
   "name": "python",
   "nbconvert_exporter": "python",
   "pygments_lexer": "ipython3",
   "version": "3.8.13"
  }
 },
 "nbformat": 4,
 "nbformat_minor": 5
}
