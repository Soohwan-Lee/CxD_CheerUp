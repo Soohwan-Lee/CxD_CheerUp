{
 "cells": [
  {
   "cell_type": "markdown",
   "id": "300f75ae",
   "metadata": {},
   "source": [
    "# 0. Install and Import Dependencies"
   ]
  },
  {
   "cell_type": "code",
   "execution_count": 2,
   "id": "c657e1a4",
   "metadata": {},
   "outputs": [],
   "source": [
    "import tensorflow as tf\n",
    "import tensorflow_hub as hub\n",
    "import cv2\n",
    "from matplotlib import pyplot as plt\n",
    "import numpy as np"
   ]
  },
  {
   "cell_type": "code",
   "execution_count": 2,
   "id": "352d1e62",
   "metadata": {},
   "outputs": [],
   "source": [
    "# Optional if you are using a GPU\n",
    "gpus = tf.config.experimental.list_physical_devices('GPU')\n",
    "for gpu in gpus:\n",
    "    tf.config.experimental.set_memory_growth(gpu, True)"
   ]
  },
  {
   "cell_type": "markdown",
   "id": "04afc135",
   "metadata": {},
   "source": [
    "# 1. Load Model"
   ]
  },
  {
   "cell_type": "code",
   "execution_count": 2,
   "id": "c4d0dfe0",
   "metadata": {},
   "outputs": [
    {
     "name": "stderr",
     "output_type": "stream",
     "text": [
      "2022-11-16 14:18:18.255751: I tensorflow/compiler/jit/xla_cpu_device.cc:41] Not creating XLA devices, tf_xla_enable_xla_devices not set\n",
      "2022-11-16 14:18:18.255986: I tensorflow/core/platform/cpu_feature_guard.cc:142] This TensorFlow binary is optimized with oneAPI Deep Neural Network Library (oneDNN) to use the following CPU instructions in performance-critical operations:  AVX2 FMA\n",
      "To enable them in other operations, rebuild TensorFlow with the appropriate compiler flags.\n"
     ]
    }
   ],
   "source": [
    "model = hub.load('https://tfhub.dev/google/movenet/multipose/lightning/1')\n",
    "movenet = model.signatures['serving_default']"
   ]
  },
  {
   "cell_type": "markdown",
   "id": "cd94c623",
   "metadata": {},
   "source": [
    "# 2. Functions"
   ]
  },
  {
   "cell_type": "code",
   "execution_count": 3,
   "id": "b591eea2",
   "metadata": {},
   "outputs": [],
   "source": [
    "# Function to loop through each person detected and render\n",
    "def loop_through_people(frame, keypoints_with_scores, edges, confidence_threshold):\n",
    "    for person in keypoints_with_scores:\n",
    "        draw_connections(frame, person, edges, confidence_threshold)\n",
    "        draw_keypoints(frame, person, confidence_threshold)"
   ]
  },
  {
   "cell_type": "code",
   "execution_count": 4,
   "id": "400062ee",
   "metadata": {},
   "outputs": [],
   "source": [
    "def draw_keypoints(frame, keypoints, confidence_threshold):\n",
    "    y, x, c = frame.shape\n",
    "    shaped = np.squeeze(np.multiply(keypoints, [y,x,1]))\n",
    "    \n",
    "    for kp in shaped:\n",
    "        ky, kx, kp_conf = kp\n",
    "        if kp_conf > confidence_threshold:\n",
    "            cv2.circle(frame, (int(kx), int(ky)), 6, (0,255,0), -1)"
   ]
  },
  {
   "cell_type": "code",
   "execution_count": 5,
   "id": "a7029dd5",
   "metadata": {},
   "outputs": [],
   "source": [
    "EDGES = {\n",
    "    (0, 1): 'm',\n",
    "    (0, 2): 'c',\n",
    "    (1, 3): 'm',\n",
    "    (2, 4): 'c',\n",
    "    (0, 5): 'm',\n",
    "    (0, 6): 'c',\n",
    "    (5, 7): 'm',\n",
    "    (7, 9): 'm',\n",
    "    (6, 8): 'c',\n",
    "    (8, 10): 'c',\n",
    "    (5, 6): 'y',\n",
    "    (5, 11): 'm',\n",
    "    (6, 12): 'c',\n",
    "    (11, 12): 'y',\n",
    "    (11, 13): 'm',\n",
    "    (13, 15): 'm',\n",
    "    (12, 14): 'c',\n",
    "    (14, 16): 'c'\n",
    "}"
   ]
  },
  {
   "cell_type": "code",
   "execution_count": 6,
   "id": "2f7e5312",
   "metadata": {},
   "outputs": [],
   "source": [
    "def draw_connections(frame, keypoints, edges, confidence_threshold):\n",
    "    y, x, c = frame.shape\n",
    "    shaped = np.squeeze(np.multiply(keypoints, [y,x,1]))\n",
    "    \n",
    "    for edge, color in edges.items():\n",
    "        p1, p2 = edge\n",
    "        y1, x1, c1 = shaped[p1]\n",
    "        y2, x2, c2 = shaped[p2]\n",
    "        \n",
    "        if (c1 > confidence_threshold) & (c2 > confidence_threshold):      \n",
    "            cv2.line(frame, (int(x1), int(y1)), (int(x2), int(y2)), (0,0,255), 4)"
   ]
  },
  {
   "cell_type": "code",
   "execution_count": 7,
   "id": "ff0689e9",
   "metadata": {},
   "outputs": [
    {
     "name": "stderr",
     "output_type": "stream",
     "text": [
      "2022-11-16 14:21:50.302606: I tensorflow/compiler/mlir/mlir_graph_optimization_pass.cc:116] None of the MLIR optimization passes are enabled (registered 2)\n"
     ]
    },
    {
     "ename": "KeyboardInterrupt",
     "evalue": "",
     "output_type": "error",
     "traceback": [
      "\u001b[0;31m---------------------------------------------------------------------------\u001b[0m",
      "\u001b[0;31mKeyboardInterrupt\u001b[0m                         Traceback (most recent call last)",
      "Cell \u001b[0;32mIn [7], line 30\u001b[0m\n\u001b[1;32m     27\u001b[0m     loop_through_people(frame, keypoints_with_scores, EDGES, \u001b[38;5;241m0.1\u001b[39m)\n\u001b[1;32m     28\u001b[0m     cv2\u001b[38;5;241m.\u001b[39mimshow(\u001b[38;5;124m'\u001b[39m\u001b[38;5;124mRaw Webcam Feed\u001b[39m\u001b[38;5;124m'\u001b[39m, frame)\n\u001b[0;32m---> 30\u001b[0m     \u001b[38;5;28;01mif\u001b[39;00m \u001b[43mcv2\u001b[49m\u001b[38;5;241;43m.\u001b[39;49m\u001b[43mwaitKey\u001b[49m\u001b[43m(\u001b[49m\u001b[38;5;241;43m10\u001b[39;49m\u001b[43m)\u001b[49m \u001b[38;5;241m&\u001b[39m \u001b[38;5;241m0xFF\u001b[39m \u001b[38;5;241m==\u001b[39m \u001b[38;5;28mord\u001b[39m(\u001b[38;5;124m'\u001b[39m\u001b[38;5;124mq\u001b[39m\u001b[38;5;124m'\u001b[39m):\n\u001b[1;32m     31\u001b[0m         \u001b[38;5;28;01mbreak\u001b[39;00m\n\u001b[1;32m     33\u001b[0m cap\u001b[38;5;241m.\u001b[39mrelease()\n",
      "\u001b[0;31mKeyboardInterrupt\u001b[0m: "
     ]
    }
   ],
   "source": [
    "cap = cv2.VideoCapture(1)\n",
    "\n",
    "while cap.isOpened():\n",
    "    ret, frame = cap.read()\n",
    "    \n",
    "    # Recolor Feed\n",
    "    #image = cv2.cvtColor(frame, cv2.COLOR_BGR2RGB)\n",
    "    #image.flags.writeable = False\n",
    "    \n",
    "    # Recolor image back to BGR for rendering\n",
    "    #image.flags.writeable = True\n",
    "    #image = cv2.cvtColor(image, cv2.COLOR_RGB2BGR)\n",
    "    #img = image.copy()\n",
    "    #img = tf.image.resize_with_pad(tf.expand_dims(img, axis=0), 384,640)\n",
    "    #input_img = tf.cast(img, dtype=tf.int32)\n",
    "    \n",
    "    # Resize image\n",
    "    img = frame.copy()\n",
    "    img = tf.image.resize_with_pad(tf.expand_dims(img, axis=0), 384,640)\n",
    "    input_img = tf.cast(img, dtype=tf.int32)\n",
    "    \n",
    "    # Detection section\n",
    "    results = movenet(input_img)\n",
    "    keypoints_with_scores = results['output_0'].numpy()[:,:,:51].reshape((6,17,3))\n",
    "    \n",
    "    # Render keypoints\n",
    "    loop_through_people(frame, keypoints_with_scores, EDGES, 0.1)\n",
    "    cv2.imshow('Raw Webcam Feed', frame)\n",
    "    \n",
    "    if cv2.waitKey(10) & 0xFF == ord('q'):\n",
    "        break\n",
    "        \n",
    "cap.release()\n",
    "cv2.destroyAllWindows()"
   ]
  },
  {
   "cell_type": "code",
   "execution_count": 7,
   "id": "e22a3136",
   "metadata": {
    "scrolled": false
   },
   "outputs": [
    {
     "ename": "NameError",
     "evalue": "name 'keypoints_with_scores' is not defined",
     "output_type": "error",
     "traceback": [
      "\u001b[0;31m---------------------------------------------------------------------------\u001b[0m",
      "\u001b[0;31mNameError\u001b[0m                                 Traceback (most recent call last)",
      "Cell \u001b[0;32mIn [7], line 1\u001b[0m\n\u001b[0;32m----> 1\u001b[0m \u001b[43mkeypoints_with_scores\u001b[49m\n",
      "\u001b[0;31mNameError\u001b[0m: name 'keypoints_with_scores' is not defined"
     ]
    }
   ],
   "source": [
    "keypoints_with_scores"
   ]
  },
  {
   "cell_type": "code",
   "execution_count": 14,
   "id": "566d6965",
   "metadata": {},
   "outputs": [],
   "source": [
    "keypoints_with_scores = keypoints_with_scores[:4]\n",
    "practice = np.delete(keypoints_with_scores, 2, 2)"
   ]
  },
  {
   "cell_type": "code",
   "execution_count": 15,
   "id": "944d4adb",
   "metadata": {},
   "outputs": [
    {
     "data": {
      "text/plain": [
       "array([[[0.4896776 , 0.5958009 ],\n",
       "        [0.41025823, 0.6354448 ],\n",
       "        [0.4078443 , 0.5540599 ],\n",
       "        [0.4527523 , 0.6707106 ],\n",
       "        [0.4648654 , 0.4935092 ],\n",
       "        [0.5815653 , 0.6894378 ],\n",
       "        [0.5959259 , 0.47572374],\n",
       "        [0.54901516, 0.6995781 ],\n",
       "        [0.5400668 , 0.4851966 ],\n",
       "        [0.54093736, 0.6715024 ],\n",
       "        [0.53551745, 0.5101397 ],\n",
       "        [0.54855776, 0.6792631 ],\n",
       "        [0.52256227, 0.58890367],\n",
       "        [0.5098033 , 0.657408  ],\n",
       "        [0.5308982 , 0.54115605],\n",
       "        [0.37397385, 0.66054004],\n",
       "        [0.3648909 , 0.6054861 ]],\n",
       "\n",
       "       [[0.4896776 , 0.5958009 ],\n",
       "        [0.41025823, 0.6354448 ],\n",
       "        [0.4078443 , 0.5540599 ],\n",
       "        [0.4572904 , 0.6697147 ],\n",
       "        [0.46943355, 0.49309072],\n",
       "        [0.80196375, 0.7454193 ],\n",
       "        [0.76395077, 0.41590744],\n",
       "        [0.93161744, 0.8046957 ],\n",
       "        [0.9384875 , 0.412608  ],\n",
       "        [0.944553  , 0.7196078 ],\n",
       "        [0.89325804, 0.48518163],\n",
       "        [0.9332437 , 0.6946528 ],\n",
       "        [0.9464004 , 0.5182978 ],\n",
       "        [0.9179814 , 0.7406748 ],\n",
       "        [0.9415144 , 0.43064055],\n",
       "        [0.63000584, 0.61999387],\n",
       "        [0.6248572 , 0.6092218 ]],\n",
       "\n",
       "       [[0.55127144, 0.5476905 ],\n",
       "        [0.46938032, 0.5590569 ],\n",
       "        [0.45576304, 0.5186883 ],\n",
       "        [0.47080287, 0.5747015 ],\n",
       "        [0.47888917, 0.49391794],\n",
       "        [0.7748089 , 0.6401588 ],\n",
       "        [0.7610394 , 0.3810438 ],\n",
       "        [0.86696786, 0.616751  ],\n",
       "        [0.91269886, 0.35524464],\n",
       "        [0.80453444, 0.51806843],\n",
       "        [0.94103456, 0.39522177],\n",
       "        [0.9670486 , 0.50434387],\n",
       "        [0.96684784, 0.4240876 ],\n",
       "        [0.9599552 , 0.44200584],\n",
       "        [0.9226792 , 0.36876485],\n",
       "        [0.7724125 , 0.4087753 ],\n",
       "        [0.76368517, 0.38274494]],\n",
       "\n",
       "       [[0.17003447, 0.01452848],\n",
       "        [0.14620584, 0.01122583],\n",
       "        [0.17970648, 0.01461702],\n",
       "        [0.1814671 , 0.01443266],\n",
       "        [0.18040018, 0.01535084],\n",
       "        [0.16822068, 0.01622497],\n",
       "        [0.17378412, 0.01543069],\n",
       "        [0.18227038, 0.01256605],\n",
       "        [0.17965572, 0.0093458 ],\n",
       "        [0.15193582, 0.00989846],\n",
       "        [0.15183367, 0.00593789],\n",
       "        [0.23857525, 0.01892447],\n",
       "        [0.23599538, 0.02363128],\n",
       "        [0.28446501, 0.01330532],\n",
       "        [0.27549475, 0.00922167],\n",
       "        [0.3562083 , 0.00207992],\n",
       "        [0.3453045 , 0.00402607]]], dtype=float32)"
      ]
     },
     "execution_count": 15,
     "metadata": {},
     "output_type": "execute_result"
    }
   ],
   "source": [
    "practice"
   ]
  },
  {
   "cell_type": "code",
   "execution_count": 26,
   "id": "8f882146",
   "metadata": {},
   "outputs": [],
   "source": [
    "finalPractice = np.delete(practice, [0,1,2,3,4], 1)"
   ]
  },
  {
   "cell_type": "code",
   "execution_count": 27,
   "id": "6364c14e",
   "metadata": {},
   "outputs": [
    {
     "data": {
      "text/plain": [
       "array([[[0.5815653 , 0.6894378 ],\n",
       "        [0.5959259 , 0.47572374],\n",
       "        [0.54901516, 0.6995781 ],\n",
       "        [0.5400668 , 0.4851966 ],\n",
       "        [0.54093736, 0.6715024 ],\n",
       "        [0.53551745, 0.5101397 ],\n",
       "        [0.54855776, 0.6792631 ],\n",
       "        [0.52256227, 0.58890367],\n",
       "        [0.5098033 , 0.657408  ],\n",
       "        [0.5308982 , 0.54115605],\n",
       "        [0.37397385, 0.66054004],\n",
       "        [0.3648909 , 0.6054861 ]],\n",
       "\n",
       "       [[0.80196375, 0.7454193 ],\n",
       "        [0.76395077, 0.41590744],\n",
       "        [0.93161744, 0.8046957 ],\n",
       "        [0.9384875 , 0.412608  ],\n",
       "        [0.944553  , 0.7196078 ],\n",
       "        [0.89325804, 0.48518163],\n",
       "        [0.9332437 , 0.6946528 ],\n",
       "        [0.9464004 , 0.5182978 ],\n",
       "        [0.9179814 , 0.7406748 ],\n",
       "        [0.9415144 , 0.43064055],\n",
       "        [0.63000584, 0.61999387],\n",
       "        [0.6248572 , 0.6092218 ]],\n",
       "\n",
       "       [[0.7748089 , 0.6401588 ],\n",
       "        [0.7610394 , 0.3810438 ],\n",
       "        [0.86696786, 0.616751  ],\n",
       "        [0.91269886, 0.35524464],\n",
       "        [0.80453444, 0.51806843],\n",
       "        [0.94103456, 0.39522177],\n",
       "        [0.9670486 , 0.50434387],\n",
       "        [0.96684784, 0.4240876 ],\n",
       "        [0.9599552 , 0.44200584],\n",
       "        [0.9226792 , 0.36876485],\n",
       "        [0.7724125 , 0.4087753 ],\n",
       "        [0.76368517, 0.38274494]],\n",
       "\n",
       "       [[0.16822068, 0.01622497],\n",
       "        [0.17378412, 0.01543069],\n",
       "        [0.18227038, 0.01256605],\n",
       "        [0.17965572, 0.0093458 ],\n",
       "        [0.15193582, 0.00989846],\n",
       "        [0.15183367, 0.00593789],\n",
       "        [0.23857525, 0.01892447],\n",
       "        [0.23599538, 0.02363128],\n",
       "        [0.28446501, 0.01330532],\n",
       "        [0.27549475, 0.00922167],\n",
       "        [0.3562083 , 0.00207992],\n",
       "        [0.3453045 , 0.00402607]]], dtype=float32)"
      ]
     },
     "execution_count": 27,
     "metadata": {},
     "output_type": "execute_result"
    }
   ],
   "source": [
    "finalPractice"
   ]
  },
  {
   "cell_type": "code",
   "execution_count": 34,
   "id": "53ad31fc",
   "metadata": {},
   "outputs": [
    {
     "data": {
      "text/plain": [
       "array([[0.5815653 , 0.6894378 ],\n",
       "       [0.5959259 , 0.47572374],\n",
       "       [0.54901516, 0.6995781 ],\n",
       "       [0.5400668 , 0.4851966 ],\n",
       "       [0.54093736, 0.6715024 ],\n",
       "       [0.53551745, 0.5101397 ],\n",
       "       [0.54855776, 0.6792631 ],\n",
       "       [0.52256227, 0.58890367],\n",
       "       [0.5098033 , 0.657408  ],\n",
       "       [0.5308982 , 0.54115605],\n",
       "       [0.37397385, 0.66054004],\n",
       "       [0.3648909 , 0.6054861 ]], dtype=float32)"
      ]
     },
     "execution_count": 34,
     "metadata": {},
     "output_type": "execute_result"
    }
   ],
   "source": [
    "finalPractice[0]"
   ]
  },
  {
   "cell_type": "code",
   "execution_count": 31,
   "id": "7827babd",
   "metadata": {},
   "outputs": [],
   "source": [
    "vectorList = [\n",
    "    [0,1],\n",
    "    [0,2],\n",
    "    [1,3],\n",
    "    [2,4],\n",
    "    [3,5],\n",
    "    [0,6],\n",
    "    [1,7],\n",
    "    [6,7],\n",
    "    [6,8],\n",
    "    [7,9],\n",
    "    [8,10],\n",
    "    [9,10]\n",
    "]"
   ]
  },
  {
   "cell_type": "code",
   "execution_count": 35,
   "id": "9e3ee288",
   "metadata": {},
   "outputs": [
    {
     "name": "stdout",
     "output_type": "stream",
     "text": [
      "0\n",
      "1\n",
      "====\n",
      "0\n",
      "2\n",
      "====\n",
      "1\n",
      "3\n",
      "====\n",
      "2\n",
      "4\n",
      "====\n",
      "3\n",
      "5\n",
      "====\n",
      "0\n",
      "6\n",
      "====\n",
      "1\n",
      "7\n",
      "====\n",
      "6\n",
      "7\n",
      "====\n",
      "6\n",
      "8\n",
      "====\n",
      "7\n",
      "9\n",
      "====\n",
      "8\n",
      "10\n",
      "====\n",
      "9\n",
      "10\n",
      "====\n"
     ]
    }
   ],
   "source": [
    "for j in vectorList:\n",
    "    print(i[0])\n",
    "    print(i[1])\n",
    "    print(\"====\")"
   ]
  },
  {
   "cell_type": "code",
   "execution_count": 50,
   "id": "2fb77006",
   "metadata": {},
   "outputs": [
    {
     "name": "stdout",
     "output_type": "stream",
     "text": [
      "[0.5815653 0.6894378]\n",
      "[0.5959259  0.47572374]\n",
      "[ 0.01436061 -0.21371406]\n",
      "====\n",
      "[0.5815653 0.6894378]\n",
      "[0.54901516 0.6995781 ]\n",
      "[-0.03255016  0.0101403 ]\n",
      "====\n",
      "[0.5959259  0.47572374]\n",
      "[0.5400668 0.4851966]\n",
      "[-0.05585915  0.00947285]\n",
      "====\n",
      "[0.54901516 0.6995781 ]\n",
      "[0.54093736 0.6715024 ]\n",
      "[-0.0080778 -0.0280757]\n",
      "====\n",
      "[0.5400668 0.4851966]\n",
      "[0.53551745 0.5101397 ]\n",
      "[-0.00454932  0.02494311]\n",
      "====\n",
      "[0.5815653 0.6894378]\n",
      "[0.54855776 0.6792631 ]\n",
      "[-0.03300756 -0.01017469]\n",
      "====\n",
      "[0.5959259  0.47572374]\n",
      "[0.52256227 0.58890367]\n",
      "[-0.07336366  0.11317992]\n",
      "====\n",
      "[0.54855776 0.6792631 ]\n",
      "[0.52256227 0.58890367]\n",
      "[-0.02599549 -0.09035945]\n",
      "====\n",
      "[0.54855776 0.6792631 ]\n",
      "[0.5098033 0.657408 ]\n",
      "[-0.03875446 -0.02185512]\n",
      "====\n",
      "[0.52256227 0.58890367]\n",
      "[0.5308982  0.54115605]\n",
      "[ 0.00833595 -0.04774761]\n",
      "====\n",
      "[0.5098033 0.657408 ]\n",
      "[0.37397385 0.66054004]\n",
      "[-0.13582945  0.00313205]\n",
      "====\n",
      "[0.5308982  0.54115605]\n",
      "[0.37397385 0.66054004]\n",
      "[-0.15692437  0.11938399]\n",
      "====\n",
      "[0.80196375 0.7454193 ]\n",
      "[0.76395077 0.41590744]\n",
      "[-0.03801298 -0.32951188]\n",
      "====\n",
      "[0.80196375 0.7454193 ]\n",
      "[0.93161744 0.8046957 ]\n",
      "[0.12965369 0.0592764 ]\n",
      "====\n",
      "[0.76395077 0.41590744]\n",
      "[0.9384875 0.412608 ]\n",
      "[ 0.17453676 -0.00329944]\n",
      "====\n",
      "[0.93161744 0.8046957 ]\n",
      "[0.944553  0.7196078]\n",
      "[ 0.01293558 -0.08508795]\n",
      "====\n",
      "[0.9384875 0.412608 ]\n",
      "[0.89325804 0.48518163]\n",
      "[-0.04522949  0.07257363]\n",
      "====\n",
      "[0.80196375 0.7454193 ]\n",
      "[0.9332437 0.6946528]\n",
      "[ 0.13127995 -0.05076653]\n",
      "====\n",
      "[0.76395077 0.41590744]\n",
      "[0.9464004 0.5182978]\n",
      "[0.18244964 0.10239035]\n",
      "====\n",
      "[0.9332437 0.6946528]\n",
      "[0.9464004 0.5182978]\n",
      "[ 0.01315671 -0.176355  ]\n",
      "====\n",
      "[0.9332437 0.6946528]\n",
      "[0.9179814 0.7406748]\n",
      "[-0.01526231  0.046022  ]\n",
      "====\n",
      "[0.9464004 0.5182978]\n",
      "[0.9415144  0.43064055]\n",
      "[-0.00488603 -0.08765724]\n",
      "====\n",
      "[0.9179814 0.7406748]\n",
      "[0.63000584 0.61999387]\n",
      "[-0.28797555 -0.12068093]\n",
      "====\n",
      "[0.9415144  0.43064055]\n",
      "[0.63000584 0.61999387]\n",
      "[-0.31150854  0.18935332]\n",
      "====\n",
      "[0.7748089 0.6401588]\n",
      "[0.7610394 0.3810438]\n",
      "[-0.01376951 -0.25911498]\n",
      "====\n",
      "[0.7748089 0.6401588]\n",
      "[0.86696786 0.616751  ]\n",
      "[ 0.09215897 -0.02340776]\n",
      "====\n",
      "[0.7610394 0.3810438]\n",
      "[0.91269886 0.35524464]\n",
      "[ 0.15165949 -0.02579916]\n",
      "====\n",
      "[0.86696786 0.616751  ]\n",
      "[0.80453444 0.51806843]\n",
      "[-0.06243342 -0.09868258]\n",
      "====\n",
      "[0.91269886 0.35524464]\n",
      "[0.94103456 0.39522177]\n",
      "[0.02833569 0.03997713]\n",
      "====\n",
      "[0.7748089 0.6401588]\n",
      "[0.9670486  0.50434387]\n",
      "[ 0.1922397 -0.1358149]\n",
      "====\n",
      "[0.7610394 0.3810438]\n",
      "[0.96684784 0.4240876 ]\n",
      "[0.20580846 0.04304382]\n",
      "====\n",
      "[0.9670486  0.50434387]\n",
      "[0.96684784 0.4240876 ]\n",
      "[-0.00020075 -0.08025625]\n",
      "====\n",
      "[0.9670486  0.50434387]\n",
      "[0.9599552  0.44200584]\n",
      "[-0.00709337 -0.06233802]\n",
      "====\n",
      "[0.96684784 0.4240876 ]\n",
      "[0.9226792  0.36876485]\n",
      "[-0.04416865 -0.05532277]\n",
      "====\n",
      "[0.9599552  0.44200584]\n",
      "[0.7724125 0.4087753]\n",
      "[-0.18754274 -0.03323054]\n",
      "====\n",
      "[0.9226792  0.36876485]\n",
      "[0.7724125 0.4087753]\n",
      "[-0.1502667   0.04001045]\n",
      "====\n",
      "[0.16822068 0.01622497]\n",
      "[0.17378412 0.01543069]\n",
      "[ 0.00556344 -0.00079428]\n",
      "====\n",
      "[0.16822068 0.01622497]\n",
      "[0.18227038 0.01256605]\n",
      "[ 0.01404969 -0.00365891]\n",
      "====\n",
      "[0.17378412 0.01543069]\n",
      "[0.17965572 0.0093458 ]\n",
      "[ 0.00587159 -0.00608489]\n",
      "====\n",
      "[0.18227038 0.01256605]\n",
      "[0.15193582 0.00989846]\n",
      "[-0.03033456 -0.0026676 ]\n",
      "====\n",
      "[0.17965572 0.0093458 ]\n",
      "[0.15183367 0.00593789]\n",
      "[-0.02782205 -0.00340791]\n",
      "====\n",
      "[0.16822068 0.01622497]\n",
      "[0.23857525 0.01892447]\n",
      "[0.07035457 0.0026995 ]\n",
      "====\n",
      "[0.17378412 0.01543069]\n",
      "[0.23599538 0.02363128]\n",
      "[0.06221126 0.00820059]\n",
      "====\n",
      "[0.23857525 0.01892447]\n",
      "[0.23599538 0.02363128]\n",
      "[-0.00257987  0.00470681]\n",
      "====\n",
      "[0.23857525 0.01892447]\n",
      "[0.28446501 0.01330532]\n",
      "[ 0.04588977 -0.00561915]\n",
      "====\n",
      "[0.23599538 0.02363128]\n",
      "[0.27549475 0.00922167]\n",
      "[ 0.03949937 -0.01440961]\n",
      "====\n",
      "[0.28446501 0.01330532]\n",
      "[0.3562083  0.00207992]\n",
      "[ 0.07174328 -0.01122539]\n",
      "====\n",
      "[0.27549475 0.00922167]\n",
      "[0.3562083  0.00207992]\n",
      "[ 0.08071354 -0.00714175]\n",
      "====\n"
     ]
    }
   ],
   "source": [
    "for person in finalPractice:\n",
    "    for i in vectorList:\n",
    "#         print(person[i[0]])    # first coordinate (y,x)\n",
    "#         print(person[i[1]])    # second coordinate (y,x)\n",
    "        print(person[i[1]] - person[i[0]])    # vector(second - first)\n",
    "        print(\"====\")"
   ]
  },
  {
   "cell_type": "code",
   "execution_count": 1,
   "id": "01e0bb65",
   "metadata": {},
   "outputs": [
    {
     "ename": "NameError",
     "evalue": "name 'np' is not defined",
     "output_type": "error",
     "traceback": [
      "\u001b[0;31m---------------------------------------------------------------------------\u001b[0m",
      "\u001b[0;31mNameError\u001b[0m                                 Traceback (most recent call last)",
      "Cell \u001b[0;32mIn [1], line 1\u001b[0m\n\u001b[0;32m----> 1\u001b[0m \u001b[43mnp\u001b[49m\u001b[38;5;241m.\u001b[39msqueeze(vector)\n",
      "\u001b[0;31mNameError\u001b[0m: name 'np' is not defined"
     ]
    }
   ],
   "source": [
    "np.squeeze(vector)"
   ]
  },
  {
   "cell_type": "code",
   "execution_count": null,
   "id": "41141d7f",
   "metadata": {},
   "outputs": [],
   "source": []
  }
 ],
 "metadata": {
  "kernelspec": {
   "display_name": "Python 3 (ipykernel)",
   "language": "python",
   "name": "python3"
  },
  "language_info": {
   "codemirror_mode": {
    "name": "ipython",
    "version": 3
   },
   "file_extension": ".py",
   "mimetype": "text/x-python",
   "name": "python",
   "nbconvert_exporter": "python",
   "pygments_lexer": "ipython3",
   "version": "3.8.13"
  }
 },
 "nbformat": 4,
 "nbformat_minor": 5
}
